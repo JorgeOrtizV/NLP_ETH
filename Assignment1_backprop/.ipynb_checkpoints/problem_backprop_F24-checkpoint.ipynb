{
 "cells": [
  {
   "cell_type": "markdown",
   "metadata": {
    "id": "Kf49KbBpaJsu"
   },
   "source": [
    "# Assignment 1 – Backprop"
   ]
  },
  {
   "cell_type": "code",
   "execution_count": 1,
   "metadata": {
    "cellView": "form",
    "colab": {
     "base_uri": "https://localhost:8080/"
    },
    "id": "wAhpRJSCgCh4",
    "outputId": "5c33b4c7-3d52-4adb-c81b-b647ea9573da"
   },
   "outputs": [
    {
     "name": "stderr",
     "output_type": "stream",
     "text": [
      "Cloning into 'intro-nlp-f24'...\n",
      "warning: redirecting to https://github.com/rycolab/intro-nlp-f24.git/\n"
     ]
    }
   ],
   "source": [
    "#@title Library Imports [do not change]\n",
    "\n",
    "import importlib\n",
    "!git clone https://www.github.com/rycolab/intro-nlp-f24.git\n",
    "utils = importlib.import_module(\"intro-nlp-f24.assignment_1.utils\")\n",
    "\n",
    "import re\n",
    "import random\n",
    "from collections import defaultdict\n",
    "import itertools\n",
    "from abc import ABC, abstractmethod\n",
    "import math"
   ]
  },
  {
   "cell_type": "code",
   "execution_count": 2,
   "metadata": {
    "cellView": "form",
    "colab": {
     "base_uri": "https://localhost:8080/"
    },
    "id": "awwwql_ii0y0",
    "outputId": "c9108de5-bf00-4cfa-8e17-3699d24eabe1"
   },
   "outputs": [
    {
     "name": "stdout",
     "output_type": "stream",
     "text": [
      "{'problem': 'exp(x) - (y * 2)', 'in_vars': {'x': 2.0, 'y': -2.0}, 'output': 11.39, 'derivative': {'x': 7.39, 'y': -2.0}}\n",
      "[['exp', 'x'], '-', ['y', '*', 2]] {'x': 2.0, 'y': -2.0}\n"
     ]
    }
   ],
   "source": [
    "#@title Select and Parse Math Problems [do not change]\n",
    "\n",
    "#@markdown select math problem\n",
    "\n",
    "math_problem_i = \"1\" #@param [0,1,2,3]\n",
    "math_problem = utils.MATH_PROBLEMS[int(math_problem_i)]\n",
    "print(math_problem)\n",
    "\n",
    "parser = utils.Parser()\n",
    "infix, in_vars = parser.parse(math_problem[\"problem\"], in_vars = math_problem[\"in_vars\"])\n",
    "print(infix, in_vars)"
   ]
  },
  {
   "cell_type": "code",
   "execution_count": 30,
   "metadata": {},
   "outputs": [],
   "source": [
    "class Node:\n",
    "    def __init__(self, node_name, operation=None, parents=None, value=None):\n",
    "        self.node_name = node_name\n",
    "        self.operation = operation\n",
    "        self.parents = parents if parents else []\n",
    "        self.children = []\n",
    "        self.value = value\n",
    "        self.derivative = 0.0\n",
    "        \n",
    "    def __str__(self):\n",
    "        print(f\"[Name: {self.node_name}, Val: {self.value}, Op: {self.operation}, Parents: {self.parents}, children: {self.children}]\")"
   ]
  },
  {
   "cell_type": "code",
   "execution_count": 31,
   "metadata": {
    "cellView": "form",
    "colab": {
     "base_uri": "https://localhost:8080/"
    },
    "id": "gEY0OEr4X2sO",
    "outputId": "d192d599-1922-4044-fc5b-a4048193bf13"
   },
   "outputs": [
    {
     "name": "stdout",
     "output_type": "stream",
     "text": [
      "{'x': <__main__.Node object at 0x000001DE25ECB4D0>, 'y': <__main__.Node object at 0x000001DE26178C90>, 'a': <__main__.Node object at 0x000001DE26209F50>, 'b': <__main__.Node object at 0x000001DE26179C50>, 'c': <__main__.Node object at 0x000001DE2617BF90>, 'd': <__main__.Node object at 0x000001DE26179510>}\n",
      "\n",
      "######### Graph in pretty print repr #########\n",
      "\n",
      "x: None() -> 2.0  -  children: a\n",
      "y: None() -> -2.0  -  children: c\n",
      "a: exp(x) -> None  -  children: d\n",
      "b: None() -> 2  -  children: c\n",
      "c: *(y, b) -> None  -  children: d\n",
      "d: -(a, c) -> None  -  children: \n"
     ]
    }
   ],
   "source": [
    "#@title ToDo1: Building\n",
    "\n",
    "class Builder():\n",
    "\n",
    "    def __init__(self, infix: list, in_vars: dict = {}):\n",
    "        \"\"\"\n",
    "        infix: list of infix notation parse, e.g. [['exp', 2], '-', 3]\n",
    "        in_vars: dict of input variables to ensure they are not used as intermediate or output variables\n",
    "        RETURN: computation graph in a data structure of your choosing\n",
    "        \"\"\"\n",
    "\n",
    "        ## some alphabetical vars to use as intermediate and output variables minus the input vars to avoid duplicates\n",
    "        avail_vars = list(map(chr, range(97, 123))) + list(map(chr, range(945, 969)))\n",
    "        if len(in_vars.keys()) > 0:\n",
    "            avail_vars = set(avail_vars) - set(in_vars)\n",
    "        self.avail_vars = sorted(list(set(avail_vars)), reverse=True)\n",
    "\n",
    "        self.infix = infix\n",
    "        self.in_vars = in_vars\n",
    "        \n",
    "        self.graph = dict()\n",
    "        # create input nodes\n",
    "        for var, val in in_vars.items():\n",
    "            self.graph[var] = Node(node_name=var, value=val)\n",
    "            \n",
    "        # build the graph using infix notation\n",
    "        self._build_graph(self.infix)\n",
    "        \n",
    "    def _build_graph(self, expr):\n",
    "        if isinstance(expr, list):\n",
    "            # [exp, x]\n",
    "            if len(expr) == 2 and isinstance(expr[0], str):\n",
    "                op, arg = expr[0], expr[1]\n",
    "                arg_node = self._build_graph(arg)\n",
    "                \n",
    "                new_var = self.avail_vars.pop()\n",
    "                new_node = Node(node_name = new_var, operation=op, parents=[arg_node])\n",
    "                arg_node.children.append(new_node)\n",
    "                \n",
    "                self.graph[new_var] = new_node\n",
    "                \n",
    "                return new_node\n",
    "                \n",
    "            elif len(expr) == 3:\n",
    "                # [x, *, 2]\n",
    "                lhs, op, rhs = expr\n",
    "                left_node = self._build_graph(lhs)\n",
    "                right_node = self._build_graph(rhs)\n",
    "                \n",
    "                new_var = self.avail_vars.pop()\n",
    "                new_node = Node(node_name=new_var, operation=op, parents=[left_node, right_node])\n",
    "                left_node.children.append(new_node)\n",
    "                right_node.children.append(new_node)\n",
    "                \n",
    "                self.graph[new_var] = new_node\n",
    "                return new_node\n",
    "            \n",
    "        elif isinstance(expr, (int, float)):\n",
    "            # Handle constant case\n",
    "            new_var = self.avail_vars.pop()\n",
    "            new_node = Node(node_name=new_var, value=expr)\n",
    "            self.graph[new_var] = new_node\n",
    "            return new_node\n",
    "        \n",
    "        elif isinstance(expr, str):\n",
    "            return self.graph[expr]\n",
    "\n",
    "    def __str__(self):\n",
    "        output = []\n",
    "        for var, node in self.graph.items():\n",
    "            parents = [p.node_name for p in node.parents]\n",
    "            children = [c.node_name for c in node.children]\n",
    "            output.append(f\"{var}: {node.operation}({', '.join(parents)}) -> {node.value}  -  children: {', '.join(children)}\")\n",
    "        return \"\\n\".join(output)\n",
    "\n",
    "if __name__ == '__main__':\n",
    "\n",
    "    g = Builder(infix, in_vars)\n",
    "    print(g.graph)\n",
    "    print(\"\\n######### Graph in pretty print repr #########\\n\")\n",
    "    print(g)"
   ]
  },
  {
   "cell_type": "code",
   "execution_count": 32,
   "metadata": {
    "cellView": "form",
    "id": "FqYDZ0rvZQVr"
   },
   "outputs": [],
   "source": [
    "#@title ToDo2: Operations\n",
    "\n",
    "class Operator(ABC):\n",
    "\n",
    "    @abstractmethod\n",
    "    def f(self, a, b = None) -> float:\n",
    "        raise NotImplementedError()\n",
    "        return f_res\n",
    "\n",
    "    @abstractmethod\n",
    "    def df(self, a, b = None) -> list:\n",
    "        raise NotImplementedError()\n",
    "        return [df_res]\n",
    "\n",
    "class Exp(Operator):\n",
    "\n",
    "    def f(self, a, b = None):\n",
    "        return math.exp(a)\n",
    "\n",
    "    def df(self, a, b = None):\n",
    "        return [math.exp(a)]\n",
    "\n",
    "class Log(Operator):\n",
    "    ## natural logarithm\n",
    "\n",
    "    def f(self, a, b = None):\n",
    "        return math.log(a, b) if b else math.log(a)\n",
    "\n",
    "    def df(self, a, b = None):\n",
    "        return [1/a]\n",
    "\n",
    "class Mult(Operator):\n",
    "\n",
    "    def f(self, a, b):\n",
    "        return a * b\n",
    "\n",
    "    def df(self, a, b):\n",
    "        return [b, a]\n",
    "\n",
    "class Div(Operator):\n",
    "\n",
    "    def f(self, a, b):\n",
    "        return a/b\n",
    "\n",
    "    def df(self, a, b):\n",
    "        return [1/b, -a/(b**2)]\n",
    "\n",
    "class Add(Operator):\n",
    "\n",
    "    def f(self, a, b):\n",
    "        return a+b\n",
    "\n",
    "    def df(self, a, b = None):\n",
    "        return [1, 1]\n",
    "\n",
    "class Sub(Operator):\n",
    "\n",
    "    def f(self, a, b = None):\n",
    "        return a-b if b else -a\n",
    "\n",
    "    def df(self, a, b = None):\n",
    "        return [1, -1] if b else  [-1]\n",
    "\n",
    "class Pow(Operator):\n",
    "\n",
    "    def f(self, a, b):\n",
    "        return a**b\n",
    "\n",
    "    def df(self, a, b):\n",
    "        if a <= 0: ## work-around: treat as unary operation if -a^b\n",
    "            return [b * (a ** (b - 1))]\n",
    "        else:\n",
    "            return [b * (a ** (b - 1)), (a ** b) * math.log(a)]\n",
    "\n",
    "class Sin(Operator):\n",
    "\n",
    "    def f(self, a, b=None):\n",
    "        return math.sin(a)\n",
    "\n",
    "    def df(self, a, b=None):\n",
    "        return [math.cos(a)]\n",
    "\n",
    "class Cos(Operator):\n",
    "\n",
    "    def f(self, a, b=None):\n",
    "        return math.cos(a)\n",
    "\n",
    "    def df(self, a, b=None):\n",
    "        return [-1*math.sin(a)]"
   ]
  },
  {
   "cell_type": "code",
   "execution_count": 37,
   "metadata": {
    "cellView": "form",
    "colab": {
     "base_uri": "https://localhost:8080/"
    },
    "id": "l965tc0PZD1y",
    "outputId": "a9f5af6b-f8ff-4ea0-b2f9-924da950ed66"
   },
   "outputs": [
    {
     "name": "stdout",
     "output_type": "stream",
     "text": [
      "11.38905609893065\n",
      "{'x': 7.38905609893065, 'y': -2.0}\n"
     ]
    }
   ],
   "source": [
    "#@title ToDo 3: Executing\n",
    "\n",
    "class Executor():\n",
    "\n",
    "    def __init__(self, graph: dict, in_vars: dict = {}):\n",
    "        \"\"\"\n",
    "        graph: computation graph in a data structure of your choosing\n",
    "        in_vars: dict of input variables, e.g. {\"x\": 2.0, \"y\": -1.0}\n",
    "        \"\"\"\n",
    "        self.graph = graph\n",
    "        self.in_vars = in_vars\n",
    "        self.fn_map = {\"log\": Log(), \"exp\": Exp(), \"+\": Add(), \"-\": Sub(), \"^\": Pow(), \"sin\": Sin(), \"cos\": Cos(), \"*\": Mult(), \"/\": Div()}\n",
    "        self.output = -1\n",
    "        self.derivative = {}\n",
    "        self.values = {}\n",
    "        self.gradients = {}\n",
    "\n",
    "    ## forward execution____________________________\n",
    "\n",
    "    def forward(self, ):\n",
    "        last_val = None\n",
    "        for name, node in self.graph.items():\n",
    "            parents = node.parents\n",
    "            if parents == []:\n",
    "                # We have a root node so we just contunue\n",
    "                continue\n",
    "            op = self.fn_map[node.operation]\n",
    "             \n",
    "            vals = [p.value for p in parents]\n",
    "            \n",
    "            last_value = op.f(*vals)\n",
    "            \n",
    "            node.value = last_value\n",
    "            \n",
    "        self.output = last_value\n",
    "\n",
    "    ## backward execution____________________________\n",
    "\n",
    "    def backward(self, ):\n",
    "        output_node_name = list(self.graph.keys())[-1]\n",
    "        self.graph[output_node_name].derivative = 1.0\n",
    "        \n",
    "        for name, node in reversed(list(self.graph.items())):\n",
    "            op = node.operation\n",
    "            if op == None:\n",
    "                continue # No operation since root node\n",
    "            op = self.fn_map[op]\n",
    "            parents = node.parents\n",
    "            vals = [p.value for p in parents]\n",
    "            \n",
    "            partials = op.df(*vals)\n",
    "            \n",
    "            for i, parent in enumerate(parents):\n",
    "                parent.derivative += node.derivative * partials[i]\n",
    "        self.derivative = {var: self.graph[var].derivative for var in self.in_vars.keys()}\n",
    "\n",
    "if __name__ == '__main__':\n",
    "  e = Executor(g.graph, in_vars=in_vars)\n",
    "  e.forward()\n",
    "  e.backward()\n",
    "  print(e.output)\n",
    "  print(e.derivative)"
   ]
  },
  {
   "cell_type": "code",
   "execution_count": 38,
   "metadata": {
    "cellView": "form",
    "colab": {
     "base_uri": "https://localhost:8080/"
    },
    "id": "lw-g9g_Avox_",
    "outputId": "ae8638b7-3dda-447a-b444-d68f91f562a6"
   },
   "outputs": [
    {
     "name": "stdout",
     "output_type": "stream",
     "text": [
      "\n",
      "0: problem: exp(x) - (y * 2), in_vars: {'x': 2.0, 'y': -2.0}\n",
      "SUCCESS output: 11.39\n",
      "SUCCESS derivative: {'x': 7.39, 'y': -2.0}\n"
     ]
    }
   ],
   "source": [
    "#@title Test Function for Debugging [do not change]\n",
    "\n",
    "utils.test_backprop(Builder, Executor, math_problem)"
   ]
  },
  {
   "cell_type": "code",
   "execution_count": 39,
   "metadata": {
    "colab": {
     "base_uri": "https://localhost:8080/"
    },
    "id": "d4qAd9lBtSmX",
    "outputId": "ed345712-a193-4372-dd6c-8662615e278a"
   },
   "outputs": [
    {
     "name": "stdout",
     "output_type": "stream",
     "text": [
      "\n",
      "0: problem: x/y, in_vars: {'x': 1.0, 'y': 1.0}\n",
      "SUCCESS output: 1.0\n",
      "SUCCESS derivative: {'x': 1.0, 'y': -1.0}\n",
      "\n",
      "1: problem: exp(x) - (y * 2), in_vars: {'x': 2.0, 'y': -2.0}\n",
      "SUCCESS output: 11.39\n",
      "SUCCESS derivative: {'x': 7.39, 'y': -2.0}\n",
      "\n",
      "2: problem: (x^2 - 1) * (y+2), in_vars: {'x': 3.0, 'y': 2.0}\n",
      "SUCCESS output: 32.0\n",
      "SUCCESS derivative: {'x': 24.0, 'y': 8.0}\n",
      "\n",
      "3: problem: z + sin(x^(2) + (y * exp(z))), in_vars: {'x': 2.0, 'y': -1.0, 'z': 0.0}\n",
      "SUCCESS output: 0.14\n",
      "SUCCESS derivative: {'x': -3.96, 'z': 1.99, 'y': -0.99}\n"
     ]
    }
   ],
   "source": [
    "#@title Test Function for Grading [do not change]\n",
    "\n",
    "utils.test_backprop(Builder, Executor)"
   ]
  },
  {
   "cell_type": "code",
   "execution_count": null,
   "metadata": {
    "id": "uhPtpwnguoCL"
   },
   "outputs": [],
   "source": []
  }
 ],
 "metadata": {
  "colab": {
   "provenance": []
  },
  "kernelspec": {
   "display_name": "Python 3 (ipykernel)",
   "language": "python",
   "name": "python3"
  },
  "language_info": {
   "codemirror_mode": {
    "name": "ipython",
    "version": 3
   },
   "file_extension": ".py",
   "mimetype": "text/x-python",
   "name": "python",
   "nbconvert_exporter": "python",
   "pygments_lexer": "ipython3",
   "version": "3.11.9"
  }
 },
 "nbformat": 4,
 "nbformat_minor": 1
}
