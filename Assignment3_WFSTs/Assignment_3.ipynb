{
 "cells": [
  {
   "cell_type": "markdown",
   "metadata": {
    "id": "XSIPwHJdYR6E"
   },
   "source": [
    "# Assignment 3 - Transliteration"
   ]
  },
  {
   "cell_type": "markdown",
   "metadata": {
    "id": "pcy6UafEX5hB"
   },
   "source": [
    "### Setup [do not change]"
   ]
  },
  {
   "cell_type": "code",
   "execution_count": 1,
   "metadata": {
    "id": "kN-iTMK8ScoR"
   },
   "outputs": [
    {
     "name": "stderr",
     "output_type": "stream",
     "text": [
      "fatal: destination path 'eth-nlp-f24-hw3' already exists and is not an empty directory.\n"
     ]
    },
    {
     "name": "stdout",
     "output_type": "stream",
     "text": [
      "Obtaining file:///C:/UZH/NLP_ETH/Assignment3_WFSTs/eth-nlp-f24-hw3\n",
      "  Preparing metadata (setup.py): started\n",
      "  Preparing metadata (setup.py): finished with status 'done'\n",
      "Requirement already satisfied: numpy in c:\\users\\jorge\\anaconda3\\envs\\pytorch3\\lib\\site-packages (from rayuela==0.1) (1.26.4)\n",
      "Requirement already satisfied: frozendict in c:\\users\\jorge\\anaconda3\\envs\\pytorch3\\lib\\site-packages (from rayuela==0.1) (2.4.6)\n",
      "Requirement already satisfied: frozenlist in c:\\users\\jorge\\anaconda3\\envs\\pytorch3\\lib\\site-packages (from rayuela==0.1) (1.5.0)\n",
      "Requirement already satisfied: pyconll in c:\\users\\jorge\\anaconda3\\envs\\pytorch3\\lib\\site-packages (from rayuela==0.1) (3.2.0)\n",
      "Requirement already satisfied: nltk in c:\\users\\jorge\\anaconda3\\envs\\pytorch3\\lib\\site-packages (from rayuela==0.1) (3.9.1)\n",
      "Requirement already satisfied: pytest in c:\\users\\jorge\\anaconda3\\envs\\pytorch3\\lib\\site-packages (from rayuela==0.1) (8.3.4)\n",
      "Requirement already satisfied: dill in c:\\users\\jorge\\anaconda3\\envs\\pytorch3\\lib\\site-packages (from rayuela==0.1) (0.3.9)\n",
      "Requirement already satisfied: click in c:\\users\\jorge\\anaconda3\\envs\\pytorch3\\lib\\site-packages (from nltk->rayuela==0.1) (8.1.7)\n",
      "Requirement already satisfied: joblib in c:\\users\\jorge\\anaconda3\\envs\\pytorch3\\lib\\site-packages (from nltk->rayuela==0.1) (1.4.0)\n",
      "Requirement already satisfied: regex>=2021.8.3 in c:\\users\\jorge\\anaconda3\\envs\\pytorch3\\lib\\site-packages (from nltk->rayuela==0.1) (2024.5.15)\n",
      "Requirement already satisfied: tqdm in c:\\users\\jorge\\anaconda3\\envs\\pytorch3\\lib\\site-packages (from nltk->rayuela==0.1) (4.66.4)\n",
      "Requirement already satisfied: colorama in c:\\users\\jorge\\anaconda3\\envs\\pytorch3\\lib\\site-packages (from pytest->rayuela==0.1) (0.4.6)\n",
      "Requirement already satisfied: iniconfig in c:\\users\\jorge\\anaconda3\\envs\\pytorch3\\lib\\site-packages (from pytest->rayuela==0.1) (2.0.0)\n",
      "Requirement already satisfied: packaging in c:\\users\\jorge\\anaconda3\\envs\\pytorch3\\lib\\site-packages (from pytest->rayuela==0.1) (23.2)\n",
      "Requirement already satisfied: pluggy<2,>=1.5 in c:\\users\\jorge\\anaconda3\\envs\\pytorch3\\lib\\site-packages (from pytest->rayuela==0.1) (1.5.0)\n",
      "Installing collected packages: rayuela\n",
      "  Attempting uninstall: rayuela\n",
      "    Found existing installation: rayuela 0.1\n",
      "    Uninstalling rayuela-0.1:\n",
      "      Successfully uninstalled rayuela-0.1\n",
      "  Running setup.py develop for rayuela\n",
      "Successfully installed rayuela-0.1\n"
     ]
    }
   ],
   "source": [
    "!git clone https://github.com/vicky-xef/eth-nlp-f24-hw3.git\n",
    "\n",
    "import os\n",
    "os.chdir('eth-nlp-f24-hw3')\n",
    "\n",
    "!pip install -e ."
   ]
  },
  {
   "cell_type": "code",
   "execution_count": 2,
   "metadata": {
    "id": "-4p3GQ0u2iX4"
   },
   "outputs": [
    {
     "name": "stderr",
     "output_type": "stream",
     "text": [
      "'wget' is not recognized as an internal or external command,\n",
      "operable program or batch file.\n",
      "'id' is not recognized as an internal or external command,\n",
      "operable program or batch file.\n"
     ]
    }
   ],
   "source": [
    "!wget --no-check-certificate 'https://docs.google.com/uc?export=download&id=1wlHbFChZFcBgEU8knAeaUIqE0W4EaJEC' -O 'test_cases.pkl'"
   ]
  },
  {
   "cell_type": "code",
   "execution_count": 3,
   "metadata": {
    "id": "hsr_q831W8rN"
   },
   "outputs": [],
   "source": [
    "from rayuela.base.semiring import Semiring, Real, Tropical\n",
    "from rayuela.base.symbol import Sym, ε, ε_1, ε_2\n",
    "from rayuela.fsa.fsa_classes import get_epsilon_filter\n",
    "\n",
    "from rayuela.fsa.fst import FST\n",
    "from rayuela.fsa.state import State, PairState\n",
    "\n",
    "import dill\n",
    "import numpy as np\n",
    "from math import exp, log\n",
    "\n",
    "from itertools import product\n",
    "\n",
    "from frozendict import frozendict"
   ]
  },
  {
   "cell_type": "markdown",
   "metadata": {
    "id": "wFL0YgNBYCf7"
   },
   "source": [
    "### Subquestion a) - Log Semiring"
   ]
  },
  {
   "cell_type": "code",
   "execution_count": 4,
   "metadata": {
    "id": "ny9YFmJ8avns"
   },
   "outputs": [],
   "source": [
    "class Log(Semiring):\n",
    "    def __init__(self, score):\n",
    "        self.score = score\n",
    "\n",
    "    def star(self):\n",
    "        # TODO: implement Kleene star\n",
    "        if self.score < 0:\n",
    "            return Log(log(1/(1-exp(self.score))))\n",
    "        else:\n",
    "            Log(np.inf)\n",
    "\n",
    "    def __float__(self):\n",
    "        return float(self.score)\n",
    "\n",
    "    def __add__(self, other):\n",
    "        # TODO: implement log addition\n",
    "        # For numerical stability you should use the using the log-sum-exp trick\n",
    "        # https://en.wikipedia.org/wiki/LogSumExp\n",
    "        return Log(np.logaddexp(self.score, other.score))\n",
    "\n",
    "    def __mul__(self, other):\n",
    "        # TODO: implement log multiplication\n",
    "        return Log(self.score + other.score)\n",
    "\n",
    "    def __repr__(self):\n",
    "        return f\"{round(self.score, 15)}\"\n",
    "\n",
    "    def __eq__(self, other):\n",
    "        return np.allclose(float(self.score), float(other.score), atol=1e-3)\n",
    "\n",
    "    def __hash__(self):\n",
    "        return hash(self.score)\n",
    "\n",
    "# TODO: implement the log semiring one and zero\n",
    "Log.zero = Log(-np.inf)\n",
    "Log.one = Log(0)\n",
    "\n",
    "\n",
    "Log.idempotent = False\n",
    "Log.cancellative = True"
   ]
  },
  {
   "cell_type": "markdown",
   "metadata": {
    "id": "LH8LNXZpoCX6"
   },
   "source": [
    "### Before moving to the next subquestion, we give some examples of WFSTs to illustrate how to use the library `rayuela`."
   ]
  },
  {
   "cell_type": "code",
   "execution_count": 5,
   "metadata": {
    "id": "RJzHo7imoDb9"
   },
   "outputs": [
    {
     "data": {
      "text/html": [
       "\n",
       "\t\t<script>\n",
       "\t\ttry {\n",
       "\t\trequire.config({\n",
       "\t\tpaths: {\n",
       "\t\t\"d3\": \"https://cdnjs.cloudflare.com/ajax/libs/d3/4.13.0/d3\",\n",
       "\t\t\"dagreD3\": \"https://cdnjs.cloudflare.com/ajax/libs/dagre-d3/0.6.1/dagre-d3.min\"\n",
       "\t\t}\n",
       "\t\t});\n",
       "\t\t} catch {\n",
       "\t\t  [\"https://cdnjs.cloudflare.com/ajax/libs/d3/4.13.0/d3.js\",\n",
       "\t\t   \"https://cdnjs.cloudflare.com/ajax/libs/dagre-d3/0.6.1/dagre-d3.min.js\"].forEach(function (src) {\n",
       "\t\t\tvar tag = document.createElement('script');\n",
       "\t\t\ttag.src = src;\n",
       "\t\t\tdocument.body.appendChild(tag);\n",
       "\t\t  })\n",
       "\t\t}\n",
       "\t\ttry {\n",
       "\t\trequirejs(['d3', 'dagreD3'], function() {});\n",
       "\t\t} catch (e) {}\n",
       "\t\ttry {\n",
       "\t\trequire(['d3', 'dagreD3'], function() {});\n",
       "\t\t} catch (e) {}\n",
       "\t\t</script>\n",
       "\t\t<style>\n",
       "\t\t.node rect,\n",
       "\t\t.node circle,\n",
       "\t\t.node ellipse {\n",
       "\t\tstroke: #333;\n",
       "\t\tfill: #fff;\n",
       "\t\tstroke-width: 1px;\n",
       "\t\t}\n",
       "\n",
       "\t\t.edgePath path {\n",
       "\t\tstroke: #333;\n",
       "\t\tfill: #333;\n",
       "\t\tstroke-width: 1.5px;\n",
       "\t\t}\n",
       "\t\t</style>\n",
       "\t\t<center><svg width=\"850\" height=\"600\" id=\"fst_f70e84105c0246d9af315d3e9d636833\"><g/></svg></center>\n",
       "\t\t<script>\n",
       "\t\t(function render_d3() {\n",
       "\t\tvar d3, dagreD3;\n",
       "\t\ttry { // requirejs is broken on external domains\n",
       "\t\t  d3 = require('d3');\n",
       "\t\t  dagreD3 = require('dagreD3');\n",
       "\t\t} catch (e) {\n",
       "\t\t  // for google colab\n",
       "\t\t  if(typeof window.d3 !== \"undefined\" && typeof window.dagreD3 !== \"undefined\") {\n",
       "\t\t\td3 = window.d3;\n",
       "\t\t\tdagreD3 = window.dagreD3;\n",
       "\t\t  } else { // not loaded yet, so wait and try again\n",
       "\t\t\tsetTimeout(render_d3, 50);\n",
       "\t\t\treturn;\n",
       "\t\t  }\n",
       "\t\t}\n",
       "\t\t//alert(\"loaded\");\n",
       "\t\tvar g = new dagreD3.graphlib.Graph().setGraph({ 'rankdir': 'LR' });\n",
       "\t\tg.setNode(\"0\", { label: \"0 / 1.0\" , shape: \"circle\" });\n",
       "g.node(\"0\").style = \"fill: #66c2a5\"; \n",
       "g.setNode(\"1\", { label: \"1\" , shape: \"circle\" });\n",
       "g.node(\"1\").style = \"fill: #8da0cb\"; \n",
       "g.setNode(\"2\", { label: \"2\" , shape: \"circle\" });\n",
       "g.node(\"2\").style = \"fill: #8da0cb\"; \n",
       "g.setNode(\"3\", { label: \"3\" , shape: \"circle\" });\n",
       "g.node(\"3\").style = \"fill: #8da0cb\"; \n",
       "g.setNode(\"4\", { label: \"4\" , shape: \"circle\" });\n",
       "g.node(\"4\").style = \"fill: #8da0cb\"; \n",
       "g.setNode(\"5\", { label: \"5\" , shape: \"circle\" });\n",
       "g.node(\"5\").style = \"fill: #8da0cb\"; \n",
       "g.setNode(\"6\", { label: \"6 / 1.0\" , shape: \"circle\" });\n",
       "g.node(\"6\").style = \"fill: #fc8d62\"; \n",
       "g.setEdge(\"0\", \"1\", { arrowhead: \"vee\", label: \"(formal, formal) / 0.2\\n(natural, natural) / 0.3\" });\n",
       "g.setEdge(\"0\", \"2\", { arrowhead: \"vee\", label: \"(learning, learning) / 0.2\" });\n",
       "g.setEdge(\"0\", \"3\", { arrowhead: \"vee\", label: \"(data, data) / 0.3\" });\n",
       "g.setEdge(\"1\", \"2\", { arrowhead: \"vee\", label: \"(language, language) / 0.6\" });\n",
       "g.setEdge(\"1\", \"4\", { arrowhead: \"vee\", label: \"(languages, languages) / 0.4\" });\n",
       "g.setEdge(\"2\", \"5\", { arrowhead: \"vee\", label: \"(is, is) / 1.0\" });\n",
       "g.setEdge(\"3\", \"5\", { arrowhead: \"vee\", label: \"(is, is) / 0.5\\n(are, are) / 0.5\" });\n",
       "g.setEdge(\"4\", \"5\", { arrowhead: \"vee\", label: \"(are, are) / 1.0\" });\n",
       "g.setEdge(\"5\", \"6\", { arrowhead: \"vee\", label: \"(fun, fun) / 1.0\" });\n",
       "var svg = d3.select(\"#fst_f70e84105c0246d9af315d3e9d636833\"); \n",
       "\n",
       "\t\tvar inner = svg.select(\"g\");\n",
       "\n",
       "\t\t// Set up zoom support\n",
       "\t\tvar zoom = d3.zoom().scaleExtent([0.3, 5]).on(\"zoom\", function() {\n",
       "\t\tinner.attr(\"transform\", d3.event.transform);\n",
       "\t\t});\n",
       "\t\tsvg.call(zoom);\n",
       "\n",
       "\t\t// Create the renderer\n",
       "\t\tvar render = new dagreD3.render();\n",
       "\n",
       "\t\t// Run the renderer. This is what draws the final graph.\n",
       "\t\trender(inner, g);\n",
       "\n",
       "\t\t// Center the graph\n",
       "\t\tvar initialScale = 0.75;\n",
       "\t\tsvg.call(zoom.transform, d3.zoomIdentity.translate(\n",
       "\t\t    (svg.attr(\"width\") - g.graph().width * initialScale) / 2, 20).scale(initialScale));\n",
       "\n",
       "\t\tsvg.attr('height', g.graph().height * initialScale + 50);\n",
       "\t\t})();\n",
       "\n",
       "\t\t</script>\n",
       "\t\t"
      ],
      "text/plain": [
       "WFSA(7 states, <class 'rayuela.base.semiring.Real'>)"
      ]
     },
     "execution_count": 5,
     "metadata": {},
     "output_type": "execute_result"
    }
   ],
   "source": [
    "# A simple language model encoded by a WFST\n",
    "\n",
    "sem = Real # the Real semiring\n",
    "fst = FST(sem) # a WFST in the Real semiring\n",
    "\n",
    "# add transitions\n",
    "fst.add_arc(State(0), Sym('formal'), Sym('formal'), State(1), Real(0.2))\n",
    "fst.add_arc(State(0), Sym('natural'), Sym('natural'), State(1), Real(0.3))\n",
    "fst.add_arc(State(0), Sym('learning'), Sym('learning'), State(2), Real(0.2))\n",
    "fst.add_arc(State(0), Sym('data'), Sym('data'), State(3), Real(0.3))\n",
    "\n",
    "fst.add_arc(State(1), Sym('language'), Sym('language'), State(2), Real(0.6))\n",
    "fst.add_arc(State(1), Sym('languages'), Sym('languages'), State(4), Real(0.4))\n",
    "\n",
    "fst.add_arc(State(2), Sym('is'), Sym('is'), State(5), Real(1.0))\n",
    "\n",
    "fst.add_arc(State(5), Sym('fun'), Sym('fun'), State(6), Real(1.0))\n",
    "\n",
    "fst.add_arc(State(3), Sym('is'), Sym('is'), State(5), Real(0.5))\n",
    "fst.add_arc(State(3), Sym('are'), Sym('are'), State(5), Real(0.5))\n",
    "\n",
    "fst.add_arc(State(4), Sym('are'), Sym('are'), State(5), Real(1.0))\n",
    "\n",
    "# set initial weights\n",
    "# if not set, it defaults to semiring zero\n",
    "fst.set_I(State(0), Real(1.0))\n",
    "# set final weights\n",
    "fst.set_F(State(6), Real(1.0))\n",
    "\n",
    "# visualize\n",
    "fst"
   ]
  },
  {
   "cell_type": "code",
   "execution_count": 6,
   "metadata": {
    "id": "6FpH94cRoGai"
   },
   "outputs": [
    {
     "data": {
      "text/html": [
       "\n",
       "\t\t<script>\n",
       "\t\ttry {\n",
       "\t\trequire.config({\n",
       "\t\tpaths: {\n",
       "\t\t\"d3\": \"https://cdnjs.cloudflare.com/ajax/libs/d3/4.13.0/d3\",\n",
       "\t\t\"dagreD3\": \"https://cdnjs.cloudflare.com/ajax/libs/dagre-d3/0.6.1/dagre-d3.min\"\n",
       "\t\t}\n",
       "\t\t});\n",
       "\t\t} catch {\n",
       "\t\t  [\"https://cdnjs.cloudflare.com/ajax/libs/d3/4.13.0/d3.js\",\n",
       "\t\t   \"https://cdnjs.cloudflare.com/ajax/libs/dagre-d3/0.6.1/dagre-d3.min.js\"].forEach(function (src) {\n",
       "\t\t\tvar tag = document.createElement('script');\n",
       "\t\t\ttag.src = src;\n",
       "\t\t\tdocument.body.appendChild(tag);\n",
       "\t\t  })\n",
       "\t\t}\n",
       "\t\ttry {\n",
       "\t\trequirejs(['d3', 'dagreD3'], function() {});\n",
       "\t\t} catch (e) {}\n",
       "\t\ttry {\n",
       "\t\trequire(['d3', 'dagreD3'], function() {});\n",
       "\t\t} catch (e) {}\n",
       "\t\t</script>\n",
       "\t\t<style>\n",
       "\t\t.node rect,\n",
       "\t\t.node circle,\n",
       "\t\t.node ellipse {\n",
       "\t\tstroke: #333;\n",
       "\t\tfill: #fff;\n",
       "\t\tstroke-width: 1px;\n",
       "\t\t}\n",
       "\n",
       "\t\t.edgePath path {\n",
       "\t\tstroke: #333;\n",
       "\t\tfill: #333;\n",
       "\t\tstroke-width: 1.5px;\n",
       "\t\t}\n",
       "\t\t</style>\n",
       "\t\t<center><svg width=\"850\" height=\"600\" id=\"fst_937b71518a6d4c148d133106278ac72f\"><g/></svg></center>\n",
       "\t\t<script>\n",
       "\t\t(function render_d3() {\n",
       "\t\tvar d3, dagreD3;\n",
       "\t\ttry { // requirejs is broken on external domains\n",
       "\t\t  d3 = require('d3');\n",
       "\t\t  dagreD3 = require('dagreD3');\n",
       "\t\t} catch (e) {\n",
       "\t\t  // for google colab\n",
       "\t\t  if(typeof window.d3 !== \"undefined\" && typeof window.dagreD3 !== \"undefined\") {\n",
       "\t\t\td3 = window.d3;\n",
       "\t\t\tdagreD3 = window.dagreD3;\n",
       "\t\t  } else { // not loaded yet, so wait and try again\n",
       "\t\t\tsetTimeout(render_d3, 50);\n",
       "\t\t\treturn;\n",
       "\t\t  }\n",
       "\t\t}\n",
       "\t\t//alert(\"loaded\");\n",
       "\t\tvar g = new dagreD3.graphlib.Graph().setGraph({ 'rankdir': 'LR' });\n",
       "\t\tg.setNode(\"0\", { label: \"0 / 1.0\" , shape: \"circle\" });\n",
       "g.node(\"0\").style = \"fill: #66c2a5\"; \n",
       "g.setNode(\"1\", { label: \"1\" , shape: \"circle\" });\n",
       "g.node(\"1\").style = \"fill: #8da0cb\"; \n",
       "g.setNode(\"2\", { label: \"2\" , shape: \"circle\" });\n",
       "g.node(\"2\").style = \"fill: #8da0cb\"; \n",
       "g.setNode(\"3\", { label: \"3\" , shape: \"circle\" });\n",
       "g.node(\"3\").style = \"fill: #8da0cb\"; \n",
       "g.setNode(\"5\", { label: \"5\" , shape: \"circle\" });\n",
       "g.node(\"5\").style = \"fill: #8da0cb\"; \n",
       "g.setNode(\"4\", { label: \"4 / 1.0\" , shape: \"circle\" });\n",
       "g.node(\"4\").style = \"fill: #fc8d62\"; \n",
       "g.setNode(\"6\", { label: \"6 / 1.0\" , shape: \"circle\" });\n",
       "g.node(\"6\").style = \"fill: #fc8d62\"; \n",
       "g.setEdge(\"0\", \"1\", { arrowhead: \"vee\", label: \"(d, data) / 0.5\" });\n",
       "g.setEdge(\"0\", \"5\", { arrowhead: \"vee\", label: \"(d, dew) / 0.5\" });\n",
       "g.setEdge(\"1\", \"2\", { arrowhead: \"vee\", label: \"(ey, \\u00c3\\u017d\\u00c2\\u00b5) / 0.5\\n(ae, \\u00c3\\u017d\\u00c2\\u00b5) / 0.5\" });\n",
       "g.setEdge(\"2\", \"3\", { arrowhead: \"vee\", label: \"(t, \\u00c3\\u017d\\u00c2\\u00b5) / 0.7\\n(dx, \\u00c3\\u017d\\u00c2\\u00b5) / 0.3\" });\n",
       "g.setEdge(\"3\", \"4\", { arrowhead: \"vee\", label: \"(ax, \\u00c3\\u017d\\u00c2\\u00b5) / 1.0\" });\n",
       "g.setEdge(\"5\", \"6\", { arrowhead: \"vee\", label: \"(uw, \\u00c3\\u017d\\u00c2\\u00b5) / 1.0\" });\n",
       "var svg = d3.select(\"#fst_937b71518a6d4c148d133106278ac72f\"); \n",
       "\n",
       "\t\tvar inner = svg.select(\"g\");\n",
       "\n",
       "\t\t// Set up zoom support\n",
       "\t\tvar zoom = d3.zoom().scaleExtent([0.3, 5]).on(\"zoom\", function() {\n",
       "\t\tinner.attr(\"transform\", d3.event.transform);\n",
       "\t\t});\n",
       "\t\tsvg.call(zoom);\n",
       "\n",
       "\t\t// Create the renderer\n",
       "\t\tvar render = new dagreD3.render();\n",
       "\n",
       "\t\t// Run the renderer. This is what draws the final graph.\n",
       "\t\trender(inner, g);\n",
       "\n",
       "\t\t// Center the graph\n",
       "\t\tvar initialScale = 0.75;\n",
       "\t\tsvg.call(zoom.transform, d3.zoomIdentity.translate(\n",
       "\t\t    (svg.attr(\"width\") - g.graph().width * initialScale) / 2, 20).scale(initialScale));\n",
       "\n",
       "\t\tsvg.attr('height', g.graph().height * initialScale + 50);\n",
       "\t\t})();\n",
       "\n",
       "\t\t</script>\n",
       "\t\t"
      ],
      "text/plain": [
       "WFSA(7 states, <class 'rayuela.base.semiring.Real'>)"
      ]
     },
     "execution_count": 6,
     "metadata": {},
     "output_type": "execute_result"
    }
   ],
   "source": [
    "# A simple WFSA for transliteration\n",
    "\n",
    "sem = Real # semiring\n",
    "fst = FST(sem) # initialize WFST in the chosen semiring\n",
    "one, zero = sem.one, sem.zero # semiring one and zero\n",
    "\n",
    "# add transitions\n",
    "fst.add_arc(State(0), Sym('d'), Sym('data'), State(1), Real(0.5))\n",
    "fst.add_arc(State(0), Sym('d'), Sym('dew'), State(5), Real(0.5))\n",
    "\n",
    "fst.add_arc(State(1), Sym('ey'), Sym('ÃŽÂµ'), State(2), Real(0.5))\n",
    "fst.add_arc(State(1), Sym('ae'), Sym('ÃŽÂµ'), State(2), Real(0.5))\n",
    "\n",
    "fst.add_arc(State(2), Sym('t'), Sym('ÃŽÂµ'), State(3), Real(0.7))\n",
    "fst.add_arc(State(2), Sym('dx'), Sym('ÃŽÂµ'), State(3), Real(0.3))\n",
    "\n",
    "fst.add_arc(State(3), Sym('ax'), Sym('ÃŽÂµ'), State(4), one)\n",
    "\n",
    "fst.add_arc(State(5), Sym('uw'), Sym('ÃŽÂµ'), State(6), one)\n",
    "\n",
    "# initial and final weights\n",
    "fst.set_I(State(0), one)\n",
    "fst.set_F(State(4), one)\n",
    "fst.set_F(State(6), one)\n",
    "\n",
    "fst"
   ]
  },
  {
   "cell_type": "markdown",
   "metadata": {
    "id": "9pioLluSYjJK"
   },
   "source": [
    "### Subquestion b) - String Transducer"
   ]
  },
  {
   "cell_type": "code",
   "execution_count": 7,
   "metadata": {
    "id": "bncEcn9mbiS9"
   },
   "outputs": [],
   "source": [
    "def string_fst(s, semiring=Log):\n",
    "    \"\"\" Takes a string as input and a semiring\n",
    "    and returns a transducer encoding of the\n",
    "    string\n",
    "    \"\"\"\n",
    "    fst = FST(semiring)\n",
    "\n",
    "    # TODO: add arcs, initial and final weights\n",
    "    for i, char in enumerate(s):\n",
    "        fst.add_arc(State(i), Sym(char), Sym(char), State(i+1), semiring(0.5))\n",
    "        \n",
    "    # Set initial and final states\n",
    "    fst.set_I(State(0), semiring.one)\n",
    "    fst.set_F(State(len(s)), semiring.one)\n",
    "    return fst"
   ]
  },
  {
   "cell_type": "code",
   "execution_count": 8,
   "metadata": {
    "id": "xogIlSbTeuoU"
   },
   "outputs": [
    {
     "data": {
      "text/html": [
       "\n",
       "\t\t<script>\n",
       "\t\ttry {\n",
       "\t\trequire.config({\n",
       "\t\tpaths: {\n",
       "\t\t\"d3\": \"https://cdnjs.cloudflare.com/ajax/libs/d3/4.13.0/d3\",\n",
       "\t\t\"dagreD3\": \"https://cdnjs.cloudflare.com/ajax/libs/dagre-d3/0.6.1/dagre-d3.min\"\n",
       "\t\t}\n",
       "\t\t});\n",
       "\t\t} catch {\n",
       "\t\t  [\"https://cdnjs.cloudflare.com/ajax/libs/d3/4.13.0/d3.js\",\n",
       "\t\t   \"https://cdnjs.cloudflare.com/ajax/libs/dagre-d3/0.6.1/dagre-d3.min.js\"].forEach(function (src) {\n",
       "\t\t\tvar tag = document.createElement('script');\n",
       "\t\t\ttag.src = src;\n",
       "\t\t\tdocument.body.appendChild(tag);\n",
       "\t\t  })\n",
       "\t\t}\n",
       "\t\ttry {\n",
       "\t\trequirejs(['d3', 'dagreD3'], function() {});\n",
       "\t\t} catch (e) {}\n",
       "\t\ttry {\n",
       "\t\trequire(['d3', 'dagreD3'], function() {});\n",
       "\t\t} catch (e) {}\n",
       "\t\t</script>\n",
       "\t\t<style>\n",
       "\t\t.node rect,\n",
       "\t\t.node circle,\n",
       "\t\t.node ellipse {\n",
       "\t\tstroke: #333;\n",
       "\t\tfill: #fff;\n",
       "\t\tstroke-width: 1px;\n",
       "\t\t}\n",
       "\n",
       "\t\t.edgePath path {\n",
       "\t\tstroke: #333;\n",
       "\t\tfill: #333;\n",
       "\t\tstroke-width: 1.5px;\n",
       "\t\t}\n",
       "\t\t</style>\n",
       "\t\t<center><svg width=\"850\" height=\"600\" id=\"fst_f0edeaf0f7bb4cfb91c295948110a1c3\"><g/></svg></center>\n",
       "\t\t<script>\n",
       "\t\t(function render_d3() {\n",
       "\t\tvar d3, dagreD3;\n",
       "\t\ttry { // requirejs is broken on external domains\n",
       "\t\t  d3 = require('d3');\n",
       "\t\t  dagreD3 = require('dagreD3');\n",
       "\t\t} catch (e) {\n",
       "\t\t  // for google colab\n",
       "\t\t  if(typeof window.d3 !== \"undefined\" && typeof window.dagreD3 !== \"undefined\") {\n",
       "\t\t\td3 = window.d3;\n",
       "\t\t\tdagreD3 = window.dagreD3;\n",
       "\t\t  } else { // not loaded yet, so wait and try again\n",
       "\t\t\tsetTimeout(render_d3, 50);\n",
       "\t\t\treturn;\n",
       "\t\t  }\n",
       "\t\t}\n",
       "\t\t//alert(\"loaded\");\n",
       "\t\tvar g = new dagreD3.graphlib.Graph().setGraph({ 'rankdir': 'LR' });\n",
       "\t\tg.setNode(\"0\", { label: \"0 / 1.0\" , shape: \"circle\" });\n",
       "g.node(\"0\").style = \"fill: #66c2a5\"; \n",
       "g.setNode(\"1\", { label: \"1\" , shape: \"circle\" });\n",
       "g.node(\"1\").style = \"fill: #8da0cb\"; \n",
       "g.setNode(\"2\", { label: \"2\" , shape: \"circle\" });\n",
       "g.node(\"2\").style = \"fill: #8da0cb\"; \n",
       "g.setNode(\"3\", { label: \"3 / 1.0\" , shape: \"circle\" });\n",
       "g.node(\"3\").style = \"fill: #fc8d62\"; \n",
       "g.setEdge(\"0\", \"1\", { arrowhead: \"vee\", label: \"(a, a) / 0.5\" });\n",
       "g.setEdge(\"1\", \"2\", { arrowhead: \"vee\", label: \"(b, b) / 0.5\" });\n",
       "g.setEdge(\"2\", \"3\", { arrowhead: \"vee\", label: \"(c, c) / 0.5\" });\n",
       "var svg = d3.select(\"#fst_f0edeaf0f7bb4cfb91c295948110a1c3\"); \n",
       "\n",
       "\t\tvar inner = svg.select(\"g\");\n",
       "\n",
       "\t\t// Set up zoom support\n",
       "\t\tvar zoom = d3.zoom().scaleExtent([0.3, 5]).on(\"zoom\", function() {\n",
       "\t\tinner.attr(\"transform\", d3.event.transform);\n",
       "\t\t});\n",
       "\t\tsvg.call(zoom);\n",
       "\n",
       "\t\t// Create the renderer\n",
       "\t\tvar render = new dagreD3.render();\n",
       "\n",
       "\t\t// Run the renderer. This is what draws the final graph.\n",
       "\t\trender(inner, g);\n",
       "\n",
       "\t\t// Center the graph\n",
       "\t\tvar initialScale = 0.75;\n",
       "\t\tsvg.call(zoom.transform, d3.zoomIdentity.translate(\n",
       "\t\t    (svg.attr(\"width\") - g.graph().width * initialScale) / 2, 20).scale(initialScale));\n",
       "\n",
       "\t\tsvg.attr('height', g.graph().height * initialScale + 50);\n",
       "\t\t})();\n",
       "\n",
       "\t\t</script>\n",
       "\t\t"
      ],
      "text/plain": [
       "WFSA(4 states, <class 'rayuela.base.semiring.Real'>)"
      ]
     },
     "execution_count": 8,
     "metadata": {},
     "output_type": "execute_result"
    }
   ],
   "source": [
    "# you can visualise the transducer\n",
    "fst = string_fst(\"abc\", semiring=Real)\n",
    "fst"
   ]
  },
  {
   "cell_type": "markdown",
   "metadata": {
    "id": "We9mAj-SYrz3"
   },
   "source": [
    "### Subquestion c) - Edit Distance Transducer"
   ]
  },
  {
   "cell_type": "markdown",
   "metadata": {
    "id": "23AP7EiJrJ2B"
   },
   "source": [
    "As we will not learn the weights on the arcs, you can set them to some pre-defined constants. You should choose the weights such that the pathsum that needs to be computed in e) does not diverge (this is caused by the weights of the self-loops in the transducer)."
   ]
  },
  {
   "cell_type": "code",
   "execution_count": 9,
   "metadata": {
    "id": "TG1G9JdUfEK_"
   },
   "outputs": [],
   "source": [
    "def edit_distance_fst(source_alphabet, target_alphabet, semiring=Log):\n",
    "    \"\"\" Takes as input two sets of characters (source and target\n",
    "    alphabets) and a semiring and returns an edit-distance transducer\n",
    "    \"\"\"\n",
    "\n",
    "    fst = FST(semiring)\n",
    "\n",
    "    # Deletion initial case -> No matter source char we can output epsilon\n",
    "    for s in source_alphabet:\n",
    "        fst.set_arc(State(0), Sym(s), ε, State(0), semiring.one)\n",
    "        \n",
    "    # Subtitution -> For each char in source we output a different char in target\n",
    "    for j, t in enumerate(target_alphabet, start=1):\n",
    "        for s in source_alphabet:\n",
    "            fst.set_arc(State(0), Sym(s), Sym(t), State(j), semiring.one)\n",
    "        # Insertion -> We get epsilon and return t\n",
    "        fst.set_arc(State(0), ε, Sym(t), State(j), semiring.one)\n",
    "        \n",
    "    # Deletion for each state j\n",
    "    for j, t in enumerate(target_alphabet, start=1):\n",
    "        for s in source_alphabet:\n",
    "            fst.set_arc(State(j), Sym(s), ε, State(j), semiring.one)\n",
    "            \n",
    "    # Subtitution among states j\n",
    "    for j1, t1 in enumerate(target_alphabet, start=1):\n",
    "        for j2, t2 in enumerate(target_alphabet, start=1):\n",
    "            if j1!=j2:\n",
    "                for s in source_alphabet:\n",
    "                    fst.set_arc(State(j1), Sym(s), Sym(t2), State(j2), semiring.one)\n",
    "                # Insertion case between target states\n",
    "                fst.set_arc(State(j1), ε, Sym(t2), State(j2), semiring.one)\n",
    "        \n",
    "\n",
    "    # Initial and final states:\n",
    "    fst.set_I(State(0), semiring.one)\n",
    "    # At the same time, the initial state can be an end state\n",
    "    fst.set_F(State(0), semiring.one)\n",
    "    \n",
    "    # All states j can be a final state\n",
    "    for j, t in enumerate(target_alphabet, start=1):\n",
    "        fst.set_F(State(j), semiring.one)\n",
    "                             \n",
    "    return fst"
   ]
  },
  {
   "cell_type": "code",
   "execution_count": 10,
   "metadata": {
    "id": "eB2rZ_7xhB8o"
   },
   "outputs": [
    {
     "data": {
      "text/html": [
       "\n",
       "\t\t<script>\n",
       "\t\ttry {\n",
       "\t\trequire.config({\n",
       "\t\tpaths: {\n",
       "\t\t\"d3\": \"https://cdnjs.cloudflare.com/ajax/libs/d3/4.13.0/d3\",\n",
       "\t\t\"dagreD3\": \"https://cdnjs.cloudflare.com/ajax/libs/dagre-d3/0.6.1/dagre-d3.min\"\n",
       "\t\t}\n",
       "\t\t});\n",
       "\t\t} catch {\n",
       "\t\t  [\"https://cdnjs.cloudflare.com/ajax/libs/d3/4.13.0/d3.js\",\n",
       "\t\t   \"https://cdnjs.cloudflare.com/ajax/libs/dagre-d3/0.6.1/dagre-d3.min.js\"].forEach(function (src) {\n",
       "\t\t\tvar tag = document.createElement('script');\n",
       "\t\t\ttag.src = src;\n",
       "\t\t\tdocument.body.appendChild(tag);\n",
       "\t\t  })\n",
       "\t\t}\n",
       "\t\ttry {\n",
       "\t\trequirejs(['d3', 'dagreD3'], function() {});\n",
       "\t\t} catch (e) {}\n",
       "\t\ttry {\n",
       "\t\trequire(['d3', 'dagreD3'], function() {});\n",
       "\t\t} catch (e) {}\n",
       "\t\t</script>\n",
       "\t\t<style>\n",
       "\t\t.node rect,\n",
       "\t\t.node circle,\n",
       "\t\t.node ellipse {\n",
       "\t\tstroke: #333;\n",
       "\t\tfill: #fff;\n",
       "\t\tstroke-width: 1px;\n",
       "\t\t}\n",
       "\n",
       "\t\t.edgePath path {\n",
       "\t\tstroke: #333;\n",
       "\t\tfill: #333;\n",
       "\t\tstroke-width: 1.5px;\n",
       "\t\t}\n",
       "\t\t</style>\n",
       "\t\t<center><svg width=\"850\" height=\"600\" id=\"fst_fef313055f184c4faaff5b045f505c11\"><g/></svg></center>\n",
       "\t\t<script>\n",
       "\t\t(function render_d3() {\n",
       "\t\tvar d3, dagreD3;\n",
       "\t\ttry { // requirejs is broken on external domains\n",
       "\t\t  d3 = require('d3');\n",
       "\t\t  dagreD3 = require('dagreD3');\n",
       "\t\t} catch (e) {\n",
       "\t\t  // for google colab\n",
       "\t\t  if(typeof window.d3 !== \"undefined\" && typeof window.dagreD3 !== \"undefined\") {\n",
       "\t\t\td3 = window.d3;\n",
       "\t\t\tdagreD3 = window.dagreD3;\n",
       "\t\t  } else { // not loaded yet, so wait and try again\n",
       "\t\t\tsetTimeout(render_d3, 50);\n",
       "\t\t\treturn;\n",
       "\t\t  }\n",
       "\t\t}\n",
       "\t\t//alert(\"loaded\");\n",
       "\t\tvar g = new dagreD3.graphlib.Graph().setGraph({ 'rankdir': 'LR' });\n",
       "\t\tg.setNode(\"0\", { label: \"0 / [1.0 / 1.0]\" , shape: \"circle\" });\n",
       "g.node(\"0\").style = \"fill: #af8dc3\"; \n",
       "g.setNode(\"1\", { label: \"1 / 1.0\" , shape: \"circle\" });\n",
       "g.node(\"1\").style = \"fill: #fc8d62\"; \n",
       "g.setNode(\"2\", { label: \"2 / 1.0\" , shape: \"circle\" });\n",
       "g.node(\"2\").style = \"fill: #fc8d62\"; \n",
       "g.setEdge(\"0\", \"0\", { arrowhead: \"vee\", label: \"(a, \\u03b5) / 1.0\\n(b, \\u03b5) / 1.0\\n(c, \\u03b5) / 1.0\" });\n",
       "g.setEdge(\"0\", \"1\", { arrowhead: \"vee\", label: \"(a, d) / 1.0\\n(b, d) / 1.0\\n(c, d) / 1.0\\n(\\u03b5, d) / 1.0\" });\n",
       "g.setEdge(\"0\", \"2\", { arrowhead: \"vee\", label: \"(a, e) / 1.0\\n(b, e) / 1.0\\n(c, e) / 1.0\\n(\\u03b5, e) / 1.0\" });\n",
       "g.setEdge(\"1\", \"1\", { arrowhead: \"vee\", label: \"(a, \\u03b5) / 1.0\\n(b, \\u03b5) / 1.0\\n(c, \\u03b5) / 1.0\" });\n",
       "g.setEdge(\"1\", \"2\", { arrowhead: \"vee\", label: \"(a, e) / 1.0\\n(b, e) / 1.0\\n(c, e) / 1.0\\n(\\u03b5, e) / 1.0\" });\n",
       "g.setEdge(\"2\", \"2\", { arrowhead: \"vee\", label: \"(a, \\u03b5) / 1.0\\n(b, \\u03b5) / 1.0\\n(c, \\u03b5) / 1.0\" });\n",
       "g.setEdge(\"2\", \"1\", { arrowhead: \"vee\", label: \"(a, d) / 1.0\\n(b, d) / 1.0\\n(c, d) / 1.0\\n(\\u03b5, d) / 1.0\" });\n",
       "var svg = d3.select(\"#fst_fef313055f184c4faaff5b045f505c11\"); \n",
       "\n",
       "\t\tvar inner = svg.select(\"g\");\n",
       "\n",
       "\t\t// Set up zoom support\n",
       "\t\tvar zoom = d3.zoom().scaleExtent([0.3, 5]).on(\"zoom\", function() {\n",
       "\t\tinner.attr(\"transform\", d3.event.transform);\n",
       "\t\t});\n",
       "\t\tsvg.call(zoom);\n",
       "\n",
       "\t\t// Create the renderer\n",
       "\t\tvar render = new dagreD3.render();\n",
       "\n",
       "\t\t// Run the renderer. This is what draws the final graph.\n",
       "\t\trender(inner, g);\n",
       "\n",
       "\t\t// Center the graph\n",
       "\t\tvar initialScale = 0.75;\n",
       "\t\tsvg.call(zoom.transform, d3.zoomIdentity.translate(\n",
       "\t\t    (svg.attr(\"width\") - g.graph().width * initialScale) / 2, 20).scale(initialScale));\n",
       "\n",
       "\t\tsvg.attr('height', g.graph().height * initialScale + 50);\n",
       "\t\t})();\n",
       "\n",
       "\t\t</script>\n",
       "\t\t"
      ],
      "text/plain": [
       "WFSA(3 states, <class 'rayuela.base.semiring.Real'>)"
      ]
     },
     "execution_count": 10,
     "metadata": {},
     "output_type": "execute_result"
    }
   ],
   "source": [
    "fst = edit_distance_fst({'a', 'b', 'c'}, {'d', 'e'}, semiring=Real)\n",
    "fst"
   ]
  },
  {
   "cell_type": "markdown",
   "metadata": {
    "id": "RCTCHqJLYwyh"
   },
   "source": [
    "### Subquestion d) - Composition"
   ]
  },
  {
   "cell_type": "markdown",
   "metadata": {
    "id": "lzi_UzOx2yLt"
   },
   "source": [
    "We provide some composition test cases for you to inspect."
   ]
  },
  {
   "cell_type": "code",
   "execution_count": 14,
   "metadata": {
    "id": "INUf9u0626E7"
   },
   "outputs": [],
   "source": [
    "# Important, since the cwd changed the directory to the cloned folder, I added my pkl file in the cloned folder\n",
    "\n",
    "with open('test_cases.pkl', 'rb') as in_file:\n",
    "    examples = dill.load(in_file)"
   ]
  },
  {
   "cell_type": "code",
   "execution_count": 15,
   "metadata": {
    "id": "tdDfLbCT3GSL"
   },
   "outputs": [
    {
     "data": {
      "text/html": [
       "\n",
       "\t\t<script>\n",
       "\t\ttry {\n",
       "\t\trequire.config({\n",
       "\t\tpaths: {\n",
       "\t\t\"d3\": \"https://cdnjs.cloudflare.com/ajax/libs/d3/4.13.0/d3\",\n",
       "\t\t\"dagreD3\": \"https://cdnjs.cloudflare.com/ajax/libs/dagre-d3/0.6.1/dagre-d3.min\"\n",
       "\t\t}\n",
       "\t\t});\n",
       "\t\t} catch {\n",
       "\t\t  [\"https://cdnjs.cloudflare.com/ajax/libs/d3/4.13.0/d3.js\",\n",
       "\t\t   \"https://cdnjs.cloudflare.com/ajax/libs/dagre-d3/0.6.1/dagre-d3.min.js\"].forEach(function (src) {\n",
       "\t\t\tvar tag = document.createElement('script');\n",
       "\t\t\ttag.src = src;\n",
       "\t\t\tdocument.body.appendChild(tag);\n",
       "\t\t  })\n",
       "\t\t}\n",
       "\t\ttry {\n",
       "\t\trequirejs(['d3', 'dagreD3'], function() {});\n",
       "\t\t} catch (e) {}\n",
       "\t\ttry {\n",
       "\t\trequire(['d3', 'dagreD3'], function() {});\n",
       "\t\t} catch (e) {}\n",
       "\t\t</script>\n",
       "\t\t<style>\n",
       "\t\t.node rect,\n",
       "\t\t.node circle,\n",
       "\t\t.node ellipse {\n",
       "\t\tstroke: #333;\n",
       "\t\tfill: #fff;\n",
       "\t\tstroke-width: 1px;\n",
       "\t\t}\n",
       "\n",
       "\t\t.edgePath path {\n",
       "\t\tstroke: #333;\n",
       "\t\tfill: #333;\n",
       "\t\tstroke-width: 1.5px;\n",
       "\t\t}\n",
       "\t\t</style>\n",
       "\t\t<center><svg width=\"850\" height=\"600\" id=\"fst_8dc902d837c443b28a7a1cce6ce94d78\"><g/></svg></center>\n",
       "\t\t<script>\n",
       "\t\t(function render_d3() {\n",
       "\t\tvar d3, dagreD3;\n",
       "\t\ttry { // requirejs is broken on external domains\n",
       "\t\t  d3 = require('d3');\n",
       "\t\t  dagreD3 = require('dagreD3');\n",
       "\t\t} catch (e) {\n",
       "\t\t  // for google colab\n",
       "\t\t  if(typeof window.d3 !== \"undefined\" && typeof window.dagreD3 !== \"undefined\") {\n",
       "\t\t\td3 = window.d3;\n",
       "\t\t\tdagreD3 = window.dagreD3;\n",
       "\t\t  } else { // not loaded yet, so wait and try again\n",
       "\t\t\tsetTimeout(render_d3, 50);\n",
       "\t\t\treturn;\n",
       "\t\t  }\n",
       "\t\t}\n",
       "\t\t//alert(\"loaded\");\n",
       "\t\tvar g = new dagreD3.graphlib.Graph().setGraph({ 'rankdir': 'LR' });\n",
       "\t\tg.setNode(\"0\", { label: \"0 / 0.049\" , shape: \"circle\" });\n",
       "g.node(\"0\").style = \"fill: #66c2a5\"; \n",
       "g.setNode(\"1\", { label: \"1 / 0.113\" , shape: \"circle\" });\n",
       "g.node(\"1\").style = \"fill: #fc8d62\"; \n",
       "g.setEdge(\"0\", \"1\", { arrowhead: \"vee\", label: \"(a, b) / 0.054\\n(\\u03b5, a) / 0.164\" });\n",
       "g.setEdge(\"1\", \"1\", { arrowhead: \"vee\", label: \"(b, \\u03b5) / 0.092\\n(a, a) / 0.036\" });\n",
       "var svg = d3.select(\"#fst_8dc902d837c443b28a7a1cce6ce94d78\"); \n",
       "\n",
       "\t\tvar inner = svg.select(\"g\");\n",
       "\n",
       "\t\t// Set up zoom support\n",
       "\t\tvar zoom = d3.zoom().scaleExtent([0.3, 5]).on(\"zoom\", function() {\n",
       "\t\tinner.attr(\"transform\", d3.event.transform);\n",
       "\t\t});\n",
       "\t\tsvg.call(zoom);\n",
       "\n",
       "\t\t// Create the renderer\n",
       "\t\tvar render = new dagreD3.render();\n",
       "\n",
       "\t\t// Run the renderer. This is what draws the final graph.\n",
       "\t\trender(inner, g);\n",
       "\n",
       "\t\t// Center the graph\n",
       "\t\tvar initialScale = 0.75;\n",
       "\t\tsvg.call(zoom.transform, d3.zoomIdentity.translate(\n",
       "\t\t    (svg.attr(\"width\") - g.graph().width * initialScale) / 2, 20).scale(initialScale));\n",
       "\n",
       "\t\tsvg.attr('height', g.graph().height * initialScale + 50);\n",
       "\t\t})();\n",
       "\n",
       "\t\t</script>\n",
       "\t\t"
      ],
      "text/plain": [
       "WFSA(2 states, <class 'rayuela.base.semiring.Real'>)"
      ]
     },
     "execution_count": 15,
     "metadata": {},
     "output_type": "execute_result"
    }
   ],
   "source": [
    "# FST 1\n",
    "examples[0]['fst1']['fst']"
   ]
  },
  {
   "cell_type": "code",
   "execution_count": 16,
   "metadata": {
    "id": "08ShFifD3Lhm"
   },
   "outputs": [
    {
     "data": {
      "text/html": [
       "\n",
       "\t\t<script>\n",
       "\t\ttry {\n",
       "\t\trequire.config({\n",
       "\t\tpaths: {\n",
       "\t\t\"d3\": \"https://cdnjs.cloudflare.com/ajax/libs/d3/4.13.0/d3\",\n",
       "\t\t\"dagreD3\": \"https://cdnjs.cloudflare.com/ajax/libs/dagre-d3/0.6.1/dagre-d3.min\"\n",
       "\t\t}\n",
       "\t\t});\n",
       "\t\t} catch {\n",
       "\t\t  [\"https://cdnjs.cloudflare.com/ajax/libs/d3/4.13.0/d3.js\",\n",
       "\t\t   \"https://cdnjs.cloudflare.com/ajax/libs/dagre-d3/0.6.1/dagre-d3.min.js\"].forEach(function (src) {\n",
       "\t\t\tvar tag = document.createElement('script');\n",
       "\t\t\ttag.src = src;\n",
       "\t\t\tdocument.body.appendChild(tag);\n",
       "\t\t  })\n",
       "\t\t}\n",
       "\t\ttry {\n",
       "\t\trequirejs(['d3', 'dagreD3'], function() {});\n",
       "\t\t} catch (e) {}\n",
       "\t\ttry {\n",
       "\t\trequire(['d3', 'dagreD3'], function() {});\n",
       "\t\t} catch (e) {}\n",
       "\t\t</script>\n",
       "\t\t<style>\n",
       "\t\t.node rect,\n",
       "\t\t.node circle,\n",
       "\t\t.node ellipse {\n",
       "\t\tstroke: #333;\n",
       "\t\tfill: #fff;\n",
       "\t\tstroke-width: 1px;\n",
       "\t\t}\n",
       "\n",
       "\t\t.edgePath path {\n",
       "\t\tstroke: #333;\n",
       "\t\tfill: #333;\n",
       "\t\tstroke-width: 1.5px;\n",
       "\t\t}\n",
       "\t\t</style>\n",
       "\t\t<center><svg width=\"850\" height=\"600\" id=\"fst_a0e9be17d84d4c03a6d8424b6e49bc0e\"><g/></svg></center>\n",
       "\t\t<script>\n",
       "\t\t(function render_d3() {\n",
       "\t\tvar d3, dagreD3;\n",
       "\t\ttry { // requirejs is broken on external domains\n",
       "\t\t  d3 = require('d3');\n",
       "\t\t  dagreD3 = require('dagreD3');\n",
       "\t\t} catch (e) {\n",
       "\t\t  // for google colab\n",
       "\t\t  if(typeof window.d3 !== \"undefined\" && typeof window.dagreD3 !== \"undefined\") {\n",
       "\t\t\td3 = window.d3;\n",
       "\t\t\tdagreD3 = window.dagreD3;\n",
       "\t\t  } else { // not loaded yet, so wait and try again\n",
       "\t\t\tsetTimeout(render_d3, 50);\n",
       "\t\t\treturn;\n",
       "\t\t  }\n",
       "\t\t}\n",
       "\t\t//alert(\"loaded\");\n",
       "\t\tvar g = new dagreD3.graphlib.Graph().setGraph({ 'rankdir': 'LR' });\n",
       "\t\tg.setNode(\"0\", { label: \"0 / 0.086\" , shape: \"circle\" });\n",
       "g.node(\"0\").style = \"fill: #66c2a5\"; \n",
       "g.setNode(\"1\", { label: \"1 / 0.077\" , shape: \"circle\" });\n",
       "g.node(\"1\").style = \"fill: #fc8d62\"; \n",
       "g.setEdge(\"0\", \"1\", { arrowhead: \"vee\", label: \"(b, a) / 0.032\\n(a, \\u03b5) / 0.096\" });\n",
       "g.setEdge(\"1\", \"1\", { arrowhead: \"vee\", label: \"(b, a) / 0.091\\n(a, a) / 0.059\" });\n",
       "var svg = d3.select(\"#fst_a0e9be17d84d4c03a6d8424b6e49bc0e\"); \n",
       "\n",
       "\t\tvar inner = svg.select(\"g\");\n",
       "\n",
       "\t\t// Set up zoom support\n",
       "\t\tvar zoom = d3.zoom().scaleExtent([0.3, 5]).on(\"zoom\", function() {\n",
       "\t\tinner.attr(\"transform\", d3.event.transform);\n",
       "\t\t});\n",
       "\t\tsvg.call(zoom);\n",
       "\n",
       "\t\t// Create the renderer\n",
       "\t\tvar render = new dagreD3.render();\n",
       "\n",
       "\t\t// Run the renderer. This is what draws the final graph.\n",
       "\t\trender(inner, g);\n",
       "\n",
       "\t\t// Center the graph\n",
       "\t\tvar initialScale = 0.75;\n",
       "\t\tsvg.call(zoom.transform, d3.zoomIdentity.translate(\n",
       "\t\t    (svg.attr(\"width\") - g.graph().width * initialScale) / 2, 20).scale(initialScale));\n",
       "\n",
       "\t\tsvg.attr('height', g.graph().height * initialScale + 50);\n",
       "\t\t})();\n",
       "\n",
       "\t\t</script>\n",
       "\t\t"
      ],
      "text/plain": [
       "WFSA(2 states, <class 'rayuela.base.semiring.Real'>)"
      ]
     },
     "execution_count": 16,
     "metadata": {},
     "output_type": "execute_result"
    }
   ],
   "source": [
    "# FST 2\n",
    "examples[0]['fst2']['fst']"
   ]
  },
  {
   "cell_type": "code",
   "execution_count": 17,
   "metadata": {
    "id": "0Ma7QG983NBc"
   },
   "outputs": [
    {
     "data": {
      "text/html": [
       "\n",
       "\t\t<script>\n",
       "\t\ttry {\n",
       "\t\trequire.config({\n",
       "\t\tpaths: {\n",
       "\t\t\"d3\": \"https://cdnjs.cloudflare.com/ajax/libs/d3/4.13.0/d3\",\n",
       "\t\t\"dagreD3\": \"https://cdnjs.cloudflare.com/ajax/libs/dagre-d3/0.6.1/dagre-d3.min\"\n",
       "\t\t}\n",
       "\t\t});\n",
       "\t\t} catch {\n",
       "\t\t  [\"https://cdnjs.cloudflare.com/ajax/libs/d3/4.13.0/d3.js\",\n",
       "\t\t   \"https://cdnjs.cloudflare.com/ajax/libs/dagre-d3/0.6.1/dagre-d3.min.js\"].forEach(function (src) {\n",
       "\t\t\tvar tag = document.createElement('script');\n",
       "\t\t\ttag.src = src;\n",
       "\t\t\tdocument.body.appendChild(tag);\n",
       "\t\t  })\n",
       "\t\t}\n",
       "\t\ttry {\n",
       "\t\trequirejs(['d3', 'dagreD3'], function() {});\n",
       "\t\t} catch (e) {}\n",
       "\t\ttry {\n",
       "\t\trequire(['d3', 'dagreD3'], function() {});\n",
       "\t\t} catch (e) {}\n",
       "\t\t</script>\n",
       "\t\t<style>\n",
       "\t\t.node rect,\n",
       "\t\t.node circle,\n",
       "\t\t.node ellipse {\n",
       "\t\tstroke: #333;\n",
       "\t\tfill: #fff;\n",
       "\t\tstroke-width: 1px;\n",
       "\t\t}\n",
       "\n",
       "\t\t.edgePath path {\n",
       "\t\tstroke: #333;\n",
       "\t\tfill: #333;\n",
       "\t\tstroke-width: 1.5px;\n",
       "\t\t}\n",
       "\t\t</style>\n",
       "\t\t<center><svg width=\"850\" height=\"600\" id=\"fst_866f0488dbd5454e9d7f2ae14669e2af\"><g/></svg></center>\n",
       "\t\t<script>\n",
       "\t\t(function render_d3() {\n",
       "\t\tvar d3, dagreD3;\n",
       "\t\ttry { // requirejs is broken on external domains\n",
       "\t\t  d3 = require('d3');\n",
       "\t\t  dagreD3 = require('dagreD3');\n",
       "\t\t} catch (e) {\n",
       "\t\t  // for google colab\n",
       "\t\t  if(typeof window.d3 !== \"undefined\" && typeof window.dagreD3 !== \"undefined\") {\n",
       "\t\t\td3 = window.d3;\n",
       "\t\t\tdagreD3 = window.dagreD3;\n",
       "\t\t  } else { // not loaded yet, so wait and try again\n",
       "\t\t\tsetTimeout(render_d3, 50);\n",
       "\t\t\treturn;\n",
       "\t\t  }\n",
       "\t\t}\n",
       "\t\t//alert(\"loaded\");\n",
       "\t\tvar g = new dagreD3.graphlib.Graph().setGraph({ 'rankdir': 'LR' });\n",
       "\t\tg.setNode(\"( ( 0, 0 ), 0 )\", { label: \"( ( 0, 0 ), 0 ) / 0.004214\" , shape: \"circle\" });\n",
       "g.node(\"( ( 0, 0 ), 0 )\").style = \"fill: #66c2a5\"; \n",
       "g.setNode(\"( ( 1, 0 ), 1 )\", { label: \"( ( 1, 0 ), 1 ) / 0.008701\" , shape: \"circle\" });\n",
       "g.node(\"( ( 1, 0 ), 1 )\").style = \"fill: #fc8d62\"; \n",
       "g.setNode(\"( ( 1, 2 ), 1 )\", { label: \"( ( 1, 2 ), 1 ) / 0.008701\" , shape: \"circle\" });\n",
       "g.node(\"( ( 1, 2 ), 1 )\").style = \"fill: #fc8d62\"; \n",
       "g.setEdge(\"( ( 1, 2 ), 1 )\", \"( ( 1, 2 ), 1 )\", { arrowhead: \"vee\", label: \"(b, \\u03b5) / 0.092\" });\n",
       "g.setEdge(\"( ( 1, 2 ), 1 )\", \"( ( 1, 0 ), 1 )\", { arrowhead: \"vee\", label: \"(a, a) / 0.002124\" });\n",
       "g.setEdge(\"( ( 1, 0 ), 1 )\", \"( ( 1, 2 ), 1 )\", { arrowhead: \"vee\", label: \"(b, \\u03b5) / 0.092\" });\n",
       "g.setEdge(\"( ( 1, 0 ), 1 )\", \"( ( 1, 0 ), 1 )\", { arrowhead: \"vee\", label: \"(a, a) / 0.002124\" });\n",
       "g.setEdge(\"( ( 0, 0 ), 0 )\", \"( ( 1, 0 ), 1 )\", { arrowhead: \"vee\", label: \"(a, a) / 0.001728\\n(\\u03b5, \\u03b5) / 0.015744\" });\n",
       "var svg = d3.select(\"#fst_866f0488dbd5454e9d7f2ae14669e2af\"); \n",
       "\n",
       "\t\tvar inner = svg.select(\"g\");\n",
       "\n",
       "\t\t// Set up zoom support\n",
       "\t\tvar zoom = d3.zoom().scaleExtent([0.3, 5]).on(\"zoom\", function() {\n",
       "\t\tinner.attr(\"transform\", d3.event.transform);\n",
       "\t\t});\n",
       "\t\tsvg.call(zoom);\n",
       "\n",
       "\t\t// Create the renderer\n",
       "\t\tvar render = new dagreD3.render();\n",
       "\n",
       "\t\t// Run the renderer. This is what draws the final graph.\n",
       "\t\trender(inner, g);\n",
       "\n",
       "\t\t// Center the graph\n",
       "\t\tvar initialScale = 0.75;\n",
       "\t\tsvg.call(zoom.transform, d3.zoomIdentity.translate(\n",
       "\t\t    (svg.attr(\"width\") - g.graph().width * initialScale) / 2, 20).scale(initialScale));\n",
       "\n",
       "\t\tsvg.attr('height', g.graph().height * initialScale + 50);\n",
       "\t\t})();\n",
       "\n",
       "\t\t</script>\n",
       "\t\t"
      ],
      "text/plain": [
       "WFSA(3 states, <class 'rayuela.base.semiring.Real'>)"
      ]
     },
     "execution_count": 17,
     "metadata": {},
     "output_type": "execute_result"
    }
   ],
   "source": [
    "# composition\n",
    "examples[0]['composition']['fst']"
   ]
  },
  {
   "cell_type": "code",
   "execution_count": 18,
   "metadata": {
    "id": "A20SmaPN3Ux3"
   },
   "outputs": [
    {
     "data": {
      "text/plain": [
       "rayuela.base.semiring.Real"
      ]
     },
     "execution_count": 18,
     "metadata": {},
     "output_type": "execute_result"
    }
   ],
   "source": [
    "# semiring\n",
    "examples[0]['semiring']"
   ]
  },
  {
   "cell_type": "code",
   "execution_count": 163,
   "metadata": {
    "id": "s7yC9G0dgKfm"
   },
   "outputs": [],
   "source": [
    "vis = None\n",
    "\n",
    "def compose(fst1, fst2):\n",
    "    \"\"\" Takes as input two transducers and returns\n",
    "    their composition\n",
    "    \"\"\"\n",
    "    # The machines must be in the same semiring\n",
    "    assert fst1.R == fst2.R\n",
    "\n",
    "    comp_fst = FST(R=fst1.R)\n",
    "\n",
    "    # TODO: implement composition\n",
    "    # Implementation of the accessible composition provided in the lecture\n",
    "    # Use copies to avoid modifying the original Transducers\n",
    "    fst1_copy = fst1.augment_epsilon_transitions(idx=1)\n",
    "    fst2_copy = fst2.augment_epsilon_transitions(idx=2)\n",
    "    \n",
    "    epsilon_filter = get_epsilon_filter(fst1.R, fst1.Sigma.union(fst2.Sigma))\n",
    "    \n",
    "    stack = []\n",
    "    visited = set()\n",
    "    \n",
    "    # Add initial states to stack\n",
    "    for s1, w1 in fst1_copy.I:\n",
    "        for s2, w2 in fst2_copy.I:\n",
    "            for es, ew in epsilon_filter.I:\n",
    "                comp_state = PairState(s1,s2)\n",
    "                comp_state = PairState(comp_state, es)\n",
    "                stack.append((s1, s2, es))\n",
    "                visited.add((s1, s2, es))\n",
    "            \n",
    "                # \\lambda_T <- \\lambda_1(q1) x \\lambda_2(q2)\n",
    "                comp_fst.set_I(comp_state, w1*w2*ew)\n",
    "            \n",
    "    while len(stack) > 0:\n",
    "        q1, q2, ef_state = stack.pop()\n",
    "        comp_state = PairState(q1,q2)\n",
    "        comp_state = PairState(comp_state, ef_state)\n",
    "        # valid_tranisitions = []\n",
    "        for transition in fst1_copy.arcs(q1):\n",
    "            a, b = transition[0]\n",
    "            q1_prima = transition[1]\n",
    "            w1 = transition[2]\n",
    "            \n",
    "            for transition2 in fst2_copy.arcs(q2):\n",
    "                c, d = transition2[0]\n",
    "                q2_prima = transition[1]\n",
    "                w2 = transition[2]\n",
    "                \n",
    "                for transition_e in epsilon_filter.arcs(ef_state):\n",
    "                    ef_in, ef_out = transition_e[0]\n",
    "                    ef_prima = transition_e[1]\n",
    "                    ef_w = transition_e[2]\n",
    "                \n",
    "                    #if b == c or (b in {ε, ε_1} and c in {ε, ε_2}):\n",
    "                    if b==c or (b==ef_in and c==ef_out):\n",
    "                        next_comp_state = PairState(q1_prima, q2_prima)\n",
    "                        next_comp_state = PairState(next_comp_state, ef_prima)\n",
    "                        comp_fst.set_arc(comp_state, a, d, next_comp_state, w1*w2*ef_w)\n",
    "                    \n",
    "                    if (q1_prima, q2_prima, ef_prima) not in visited:\n",
    "                        stack.append((q1_prima, q2_prima, ef_prima))\n",
    "                        visited.add((q1_prima, q2_prima, ef_prima))\n",
    "                        \n",
    "# if epsilon_filter(b,c,comp_state) != State(\"⊥\"):\n",
    "#                     valid_transitions.append(((q1_prima, (a,b), w1), (q2_prima, (c,d), w2)))\n",
    "                    \n",
    "#         for (start, (a,b), w1), (end, (c,d), w2) in valid_transitions:\n",
    "#             comp_fst.set_arc(PairState(q1,q2), a, d, PairState(start,end), w1*w2)\n",
    "            \n",
    "#             qfp = epsilon_filter(b, c, qf)\n",
    "\n",
    "#             if (start,end,qfp) not in visited:\n",
    "#                 stack.append((start,end,qfp))\n",
    "#                 visited.add((start,end))\n",
    "                        \n",
    "    \n",
    "#     for pair in comp_fst.Q:\n",
    "#         wf = fst1_copy.ρ[pair.state1] * fst2_copy.ρ[pair.state2]\n",
    "#         if wf != fst1_copy.R.zero:\n",
    "#             comp_fst.add_F(pair, wf)\n",
    "\n",
    "    for (q1, w1) in fst1_copy.F:\n",
    "        for (q2, w2) in fst2_copy.F:\n",
    "            for ef_state, ef_w in epsilon_filter.F:\n",
    "                comp_state = PairState(q1,q2)\n",
    "                comp_state = PairState(comp_state, ef_state)\n",
    "                comp_weight = w1*w2*ef_w\n",
    "                if comp_weight != comp_fst.R.zero:\n",
    "                    comp_fst.set_F(comp_state, comp_weight)\n",
    "            \n",
    "    \n",
    "    \n",
    "    \n",
    "    return comp_fst"
   ]
  },
  {
   "cell_type": "code",
   "execution_count": 164,
   "metadata": {},
   "outputs": [],
   "source": [
    "vis"
   ]
  },
  {
   "cell_type": "code",
   "execution_count": 165,
   "metadata": {
    "id": "jCWczAyesWpg"
   },
   "outputs": [
    {
     "data": {
      "text/html": [
       "\n",
       "\t\t<script>\n",
       "\t\ttry {\n",
       "\t\trequire.config({\n",
       "\t\tpaths: {\n",
       "\t\t\"d3\": \"https://cdnjs.cloudflare.com/ajax/libs/d3/4.13.0/d3\",\n",
       "\t\t\"dagreD3\": \"https://cdnjs.cloudflare.com/ajax/libs/dagre-d3/0.6.1/dagre-d3.min\"\n",
       "\t\t}\n",
       "\t\t});\n",
       "\t\t} catch {\n",
       "\t\t  [\"https://cdnjs.cloudflare.com/ajax/libs/d3/4.13.0/d3.js\",\n",
       "\t\t   \"https://cdnjs.cloudflare.com/ajax/libs/dagre-d3/0.6.1/dagre-d3.min.js\"].forEach(function (src) {\n",
       "\t\t\tvar tag = document.createElement('script');\n",
       "\t\t\ttag.src = src;\n",
       "\t\t\tdocument.body.appendChild(tag);\n",
       "\t\t  })\n",
       "\t\t}\n",
       "\t\ttry {\n",
       "\t\trequirejs(['d3', 'dagreD3'], function() {});\n",
       "\t\t} catch (e) {}\n",
       "\t\ttry {\n",
       "\t\trequire(['d3', 'dagreD3'], function() {});\n",
       "\t\t} catch (e) {}\n",
       "\t\t</script>\n",
       "\t\t<style>\n",
       "\t\t.node rect,\n",
       "\t\t.node circle,\n",
       "\t\t.node ellipse {\n",
       "\t\tstroke: #333;\n",
       "\t\tfill: #fff;\n",
       "\t\tstroke-width: 1px;\n",
       "\t\t}\n",
       "\n",
       "\t\t.edgePath path {\n",
       "\t\tstroke: #333;\n",
       "\t\tfill: #333;\n",
       "\t\tstroke-width: 1.5px;\n",
       "\t\t}\n",
       "\t\t</style>\n",
       "\t\t<center><svg width=\"850\" height=\"600\" id=\"fst_e98b2554fac4418ebc43139d73d62764\"><g/></svg></center>\n",
       "\t\t<script>\n",
       "\t\t(function render_d3() {\n",
       "\t\tvar d3, dagreD3;\n",
       "\t\ttry { // requirejs is broken on external domains\n",
       "\t\t  d3 = require('d3');\n",
       "\t\t  dagreD3 = require('dagreD3');\n",
       "\t\t} catch (e) {\n",
       "\t\t  // for google colab\n",
       "\t\t  if(typeof window.d3 !== \"undefined\" && typeof window.dagreD3 !== \"undefined\") {\n",
       "\t\t\td3 = window.d3;\n",
       "\t\t\tdagreD3 = window.dagreD3;\n",
       "\t\t  } else { // not loaded yet, so wait and try again\n",
       "\t\t\tsetTimeout(render_d3, 50);\n",
       "\t\t\treturn;\n",
       "\t\t  }\n",
       "\t\t}\n",
       "\t\t//alert(\"loaded\");\n",
       "\t\tvar g = new dagreD3.graphlib.Graph().setGraph({ 'rankdir': 'LR' });\n",
       "\t\tg.setNode(\"( ( 0, 0 ), 0 )\", { label: \"( ( 0, 0 ), 0 ) / 0.004214\" , shape: \"circle\" });\n",
       "g.node(\"( ( 0, 0 ), 0 )\").style = \"fill: #66c2a5\"; \n",
       "g.setNode(\"( ( 0, 0 ), 2 )\", { label: \"( ( 0, 0 ), 2 )\" , shape: \"circle\" });\n",
       "g.node(\"( ( 0, 0 ), 2 )\").style = \"fill: #8da0cb\"; \n",
       "g.setNode(\"( ( 0, 0 ), 1 )\", { label: \"( ( 0, 0 ), 1 )\" , shape: \"circle\" });\n",
       "g.node(\"( ( 0, 0 ), 1 )\").style = \"fill: #8da0cb\"; \n",
       "g.setNode(\"( ( 1, 1 ), 0 )\", { label: \"( ( 1, 1 ), 0 ) / 0.008701\" , shape: \"circle\" });\n",
       "g.node(\"( ( 1, 1 ), 0 )\").style = \"fill: #fc8d62\"; \n",
       "g.setNode(\"( ( 1, 1 ), 1 )\", { label: \"( ( 1, 1 ), 1 ) / 0.008701\" , shape: \"circle\" });\n",
       "g.node(\"( ( 1, 1 ), 1 )\").style = \"fill: #fc8d62\"; \n",
       "g.setNode(\"( ( 1, 1 ), 2 )\", { label: \"( ( 1, 1 ), 2 ) / 0.008701\" , shape: \"circle\" });\n",
       "g.node(\"( ( 1, 1 ), 2 )\").style = \"fill: #fc8d62\"; \n",
       "g.setEdge(\"( ( 1, 1 ), 2 )\", \"( ( 1, 1 ), 0 )\", { arrowhead: \"vee\", label: \"(b, \\u03b5) / 0.008464\\n(a, a) / 0.001296\" });\n",
       "g.setEdge(\"( ( 1, 1 ), 2 )\", \"( ( 1, 1 ), 2 )\", { arrowhead: \"vee\", label: \"(b, \\u03b5) / 0.008464\\n(a, a) / 0.001296\" });\n",
       "g.setEdge(\"( ( 0, 0 ), 2 )\", \"( ( 1, 1 ), 0 )\", { arrowhead: \"vee\", label: \"(a, a) / 0.002916\\n(\\u03b5, \\u03b5) / 0.026896\" });\n",
       "g.setEdge(\"( ( 0, 0 ), 2 )\", \"( ( 1, 1 ), 2 )\", { arrowhead: \"vee\", label: \"(a, a) / 0.002916\\n(\\u03b5, \\u03b5) / 0.026896\" });\n",
       "g.setEdge(\"( ( 1, 1 ), 1 )\", \"( ( 1, 1 ), 0 )\", { arrowhead: \"vee\", label: \"(b, \\u03b5) / 0.008464\\n(a, a) / 0.001296\" });\n",
       "g.setEdge(\"( ( 1, 1 ), 1 )\", \"( ( 1, 1 ), 1 )\", { arrowhead: \"vee\", label: \"(b, \\u03b5) / 0.008464\\n(a, a) / 0.001296\" });\n",
       "g.setEdge(\"( ( 0, 0 ), 1 )\", \"( ( 1, 1 ), 0 )\", { arrowhead: \"vee\", label: \"(a, a) / 0.002916\\n(\\u03b5, \\u03b5) / 0.026896\" });\n",
       "g.setEdge(\"( ( 0, 0 ), 1 )\", \"( ( 1, 1 ), 1 )\", { arrowhead: \"vee\", label: \"(a, a) / 0.002916\\n(\\u03b5, \\u03b5) / 0.026896\" });\n",
       "g.setEdge(\"( ( 1, 1 ), 0 )\", \"( ( 1, 1 ), 0 )\", { arrowhead: \"vee\", label: \"(b, \\u03b5) / 0.008464\\n(a, a) / 0.001296\" });\n",
       "g.setEdge(\"( ( 1, 1 ), 0 )\", \"( ( 1, 1 ), 1 )\", { arrowhead: \"vee\", label: \"(b, \\u03b5) / 0.008464\\n(a, a) / 0.001296\" });\n",
       "g.setEdge(\"( ( 1, 1 ), 0 )\", \"( ( 1, 1 ), 2 )\", { arrowhead: \"vee\", label: \"(b, \\u03b5) / 0.008464\\n(a, a) / 0.001296\" });\n",
       "g.setEdge(\"( ( 0, 0 ), 0 )\", \"( ( 1, 1 ), 0 )\", { arrowhead: \"vee\", label: \"(a, a) / 0.002916\\n(\\u03b5, \\u03b5) / 0.026896\" });\n",
       "g.setEdge(\"( ( 0, 0 ), 0 )\", \"( ( 1, 1 ), 1 )\", { arrowhead: \"vee\", label: \"(a, a) / 0.002916\\n(\\u03b5, \\u03b5) / 0.026896\" });\n",
       "g.setEdge(\"( ( 0, 0 ), 0 )\", \"( ( 1, 1 ), 2 )\", { arrowhead: \"vee\", label: \"(a, a) / 0.002916\\n(\\u03b5, \\u03b5) / 0.026896\" });\n",
       "var svg = d3.select(\"#fst_e98b2554fac4418ebc43139d73d62764\"); \n",
       "\n",
       "\t\tvar inner = svg.select(\"g\");\n",
       "\n",
       "\t\t// Set up zoom support\n",
       "\t\tvar zoom = d3.zoom().scaleExtent([0.3, 5]).on(\"zoom\", function() {\n",
       "\t\tinner.attr(\"transform\", d3.event.transform);\n",
       "\t\t});\n",
       "\t\tsvg.call(zoom);\n",
       "\n",
       "\t\t// Create the renderer\n",
       "\t\tvar render = new dagreD3.render();\n",
       "\n",
       "\t\t// Run the renderer. This is what draws the final graph.\n",
       "\t\trender(inner, g);\n",
       "\n",
       "\t\t// Center the graph\n",
       "\t\tvar initialScale = 0.75;\n",
       "\t\tsvg.call(zoom.transform, d3.zoomIdentity.translate(\n",
       "\t\t    (svg.attr(\"width\") - g.graph().width * initialScale) / 2, 20).scale(initialScale));\n",
       "\n",
       "\t\tsvg.attr('height', g.graph().height * initialScale + 50);\n",
       "\t\t})();\n",
       "\n",
       "\t\t</script>\n",
       "\t\t"
      ],
      "text/plain": [
       "WFSA(6 states, <class 'rayuela.base.semiring.Real'>)"
      ]
     },
     "execution_count": 165,
     "metadata": {},
     "output_type": "execute_result"
    }
   ],
   "source": [
    "compose(examples[0]['fst1']['fst'],examples[0]['fst2']['fst'])"
   ]
  },
  {
   "cell_type": "markdown",
   "metadata": {
    "id": "_iBUgq4vY8Th"
   },
   "source": [
    "### Subquestion e) - Lehmann's Algorithm"
   ]
  },
  {
   "cell_type": "code",
   "execution_count": 166,
   "metadata": {
    "id": "JdoPOG8ug-z1"
   },
   "outputs": [],
   "source": [
    "class Pathsum:\n",
    "    def __init__(self, fsa):\n",
    "\n",
    "        # basic FSA stuff\n",
    "        self.fsa = fsa\n",
    "        self.R = fsa.R\n",
    "        self.N = self.fsa.num_states\n",
    "\n",
    "        # state dictionary\n",
    "        self.I = {}\n",
    "        for n, q in enumerate(self.fsa.Q):\n",
    "            self.I[q] = n\n",
    "\n",
    "        # lift into the semiring\n",
    "        self.W, self.W_dict, self.alpha, self.beta = self.lift()\n",
    "\n",
    "\n",
    "    def lift(self):\n",
    "        \"\"\" creates the weight matrix, initial weight vector,\n",
    "        final weight vector from the automaton \"\"\"\n",
    "        W = self.R.zeros((self.N, self.N))\n",
    "        W_dict = {a: {} for a in self.fsa.Sigma}\n",
    "        alpha = self.R.zeros((self.N,))\n",
    "        beta = self.R.zeros((self.N,))\n",
    "        for a in self.fsa.Sigma:\n",
    "            for b in self.fsa.Delta:\n",
    "                W_dict[a][b] = self.R.zeros((self.N, self.N))\n",
    "        for p in self.fsa.Q:\n",
    "            alpha[self.I[p]] += self.fsa.λ[p]\n",
    "            beta[self.I[p]] += self.fsa.ρ[p]\n",
    "            for (a, b), q, w in self.fsa.arcs(p):\n",
    "                W[self.I[p], self.I[q]] += w\n",
    "                W_dict[a][b][self.I[p], self.I[q]] = w\n",
    "        return W, W_dict, alpha, beta\n",
    "\n",
    "    def lehmann(self):\n",
    "        \"\"\"\n",
    "        Lehmann's (1977) algorithm.\n",
    "        \"\"\"\n",
    "        # Implementation following the algorithm given in lecture\n",
    "        R = self.W\n",
    "        for j in range(self.N):\n",
    "            for i in range(self.N):\n",
    "                for k in range(self.N):\n",
    "                    R[i, k] = R[i,k] + R[i,j]*R[j,j].star()*R[j,k]\n",
    "                    \n",
    "        for i in range(self.N):\n",
    "            R[i,i] = R[i,i] + self.R.one\n",
    "        \n",
    "        return R\n",
    "\n",
    "    def _iterate(self, K):\n",
    "        P = self.R.diag(self.N)\n",
    "        for n in range(K):\n",
    "            P += self.W @ P\n",
    "        return P\n",
    "\n",
    "    def _fixpoint(self, K=200):\n",
    "        if self.fsa.R.idempotent:\n",
    "            return self._iterate(self.fsa.num_states)\n",
    "\n",
    "        diag = self.R.zeros((self.fsa.num_states, self.fsa.num_states))\n",
    "        for n in range(self.fsa.num_states):\n",
    "            diag[n, n] = self.fsa.R.one\n",
    "        P_old = diag\n",
    "\n",
    "        for _ in range(K):\n",
    "            P_new = diag + self.W @ P_old\n",
    "            P_old = P_new\n",
    "\n",
    "        return P_old\n",
    "\n",
    "    def fixpoint(self):\n",
    "\n",
    "        P = self._fixpoint()\n",
    "        W = {}\n",
    "\n",
    "        for p in self.fsa.Q:\n",
    "            for q in self.fsa.Q:\n",
    "                if p in self.I and q in self.I:\n",
    "                    W[p, q] = P[self.I[p], self.I[q]]\n",
    "                elif p == q:\n",
    "                    W[p, q] = self.R.one\n",
    "                else:\n",
    "                    W[p, q] = self.R.zero\n",
    "\n",
    "        return frozendict(W)"
   ]
  },
  {
   "cell_type": "code",
   "execution_count": 167,
   "metadata": {
    "id": "cVSgt6AyIKvL"
   },
   "outputs": [
    {
     "data": {
      "text/plain": [
       "frozendict.frozendict({(0, 0): 1.0, (0, 1): 0.25, (1, 0): 0.0, (1, 1): 1.146788990825688})"
      ]
     },
     "execution_count": 167,
     "metadata": {},
     "output_type": "execute_result"
    }
   ],
   "source": [
    "pathsum = Pathsum(examples[0]['fst1']['fst'])\n",
    "pathsum.fixpoint()"
   ]
  },
  {
   "cell_type": "code",
   "execution_count": 168,
   "metadata": {
    "id": "g4_CMHl6os3V"
   },
   "outputs": [
    {
     "data": {
      "text/plain": [
       "array([[1.0, 0.25],\n",
       "       [0.0, 1.146788990825688]], dtype=object)"
      ]
     },
     "execution_count": 168,
     "metadata": {},
     "output_type": "execute_result"
    }
   ],
   "source": [
    "pathsum.lehmann()"
   ]
  },
  {
   "cell_type": "markdown",
   "metadata": {
    "id": "j3yMKALJZE23"
   },
   "source": [
    "### Subquestion f) - Normalizer"
   ]
  },
  {
   "cell_type": "markdown",
   "metadata": {
    "id": "HWYq69zqZBym"
   },
   "source": [
    "We provide some test cases for you to inspect."
   ]
  },
  {
   "cell_type": "code",
   "execution_count": null,
   "metadata": {
    "id": "2CfkrNj9ZCXj"
   },
   "outputs": [],
   "source": [
    "examples[0]['fst1']['Z'], examples[0]['fst2']['Z'], examples[0]['composition']['Z']"
   ]
  },
  {
   "cell_type": "code",
   "execution_count": 171,
   "metadata": {
    "id": "pEwB-REPhvQ_"
   },
   "outputs": [],
   "source": [
    "def normalizer(fst):\n",
    "    \"\"\" Takes as input a finite-state transducer and\n",
    "    returns its normalizer\n",
    "    \"\"\"\n",
    "\n",
    "    pathsum = Pathsum(fst)\n",
    "    # According to the lecture Z(x) = sum_{qn,qm \\in Q} \\lambda(qn)(W*)\\rho(qm)\n",
    "    Z = fst.R.zero\n",
    "    R = pathsum.lehmann()\n",
    "    \n",
    "    for n, qn in enumerate(fst.Q):\n",
    "        for m, qm in enumerate(fst.Q):\n",
    "            Z = Z + fst.λ[qn]*R[n,m]*fst.ρ[qm]\n",
    "\n",
    "    return Z"
   ]
  },
  {
   "cell_type": "code",
   "execution_count": 172,
   "metadata": {
    "id": "F_eRHlYopwX0"
   },
   "outputs": [
    {
     "data": {
      "text/plain": [
       "(0.00138425, 0.000997195294118, 7.08067346e-07)"
      ]
     },
     "execution_count": 172,
     "metadata": {},
     "output_type": "execute_result"
    }
   ],
   "source": [
    "normalizer(examples[0]['fst1']['fst']), normalizer(examples[0]['fst2']['fst']), normalizer(examples[0]['composition']['fst'])"
   ]
  },
  {
   "cell_type": "markdown",
   "metadata": {
    "id": "Cn7vgvpSZPwQ"
   },
   "source": [
    "### Subquestion g) - Log-likelihood"
   ]
  },
  {
   "cell_type": "code",
   "execution_count": 173,
   "metadata": {
    "id": "MLZJLsx3iYUq"
   },
   "outputs": [],
   "source": [
    "def log_likelihood(source_alphabet, target_alphabet, source_str, target_str):\n",
    "    \"\"\" Takes as input the source and target alphabets (sets of characters)\n",
    "    and a pair of source and target strings and returns the log-likelihood\n",
    "    \"\"\"\n",
    "\n",
    "    # TODO: implement log-likelihood\n",
    "    # \\sum_{i=1}^I score(yi,xi)-logZ(xi)\n",
    "    \n",
    "    # score(yi, xi) is given by the composed transducer\n",
    "    \n",
    "    # Build transducers\n",
    "    src_fst = string_fst(source_str)\n",
    "    target_fst = string_fst(target_str)\n",
    "    edit_dist = edit_distance_fst(source_alphabet, target_alphabet)\n",
    "    \n",
    "    # Composition...\n",
    "    comp1 = compose(src_fst, edit_dist)\n",
    "    comp2 = compose(comp1, target_fst)\n",
    "    \"\"\"\n",
    "    Recall that p (y | x) sums over all possible alignments of x to y. This probability\n",
    "    can be computed as the pathsum of the composition T x ◦ T ◦ T y, divided by the\n",
    "    pathsum of T x ◦ T (the normalizing constant).\n",
    "    \"\"\"\n",
    "    score_theta = np.log(normalizer(comp2).score)\n",
    "    log_z = np.log(normalizer(comp1).score)\n",
    "    \n",
    "    return score_theta-log_Z\n",
    "    "
   ]
  },
  {
   "cell_type": "markdown",
   "metadata": {
    "id": "4ookC1XyZVCT"
   },
   "source": [
    "### Subquestion h) - Decoding"
   ]
  },
  {
   "cell_type": "code",
   "execution_count": null,
   "metadata": {
    "id": "Q6UXHrpMZcrV"
   },
   "outputs": [],
   "source": [
    "def to_semiring(fst, semiring):\n",
    "    \"\"\" Lifts an WFST into a different semiring\n",
    "    \"\"\"\n",
    "    oone, one = fst.R.one, semiring.one\n",
    "    nfst = FST(semiring)\n",
    "\n",
    "    # initial weights\n",
    "    for q, w in fst.I:\n",
    "        if w == oone:\n",
    "            nfst.set_I(q, one)\n",
    "        else:\n",
    "            nfst.set_I(q, semiring(w.score))\n",
    "\n",
    "    # final weights\n",
    "    for q, w in fst.F:\n",
    "        if w == oone:\n",
    "            nfst.set_F(q, one)\n",
    "        else:\n",
    "            nfst.set_F(q, semiring(w.score))\n",
    "\n",
    "    # arcs\n",
    "    for p in fst.Q:\n",
    "        for (a, b), q, w in fst.arcs(p):\n",
    "            if w == oone:\n",
    "                nfst.add_arc(p, a, b, q, one)\n",
    "            else:\n",
    "                nfst.add_arc(p, a, b, q, semiring(w.score))\n",
    "\n",
    "    return nfst"
   ]
  },
  {
   "cell_type": "code",
   "execution_count": 174,
   "metadata": {},
   "outputs": [],
   "source": [
    "\"\"\"\n",
    "We need to implement a different semiring\n",
    "If we replace the probability or log-semiring with the arctic semiring\n",
    "〈R≤0, max, +, −∞, 0〉 on a trained instance on the WFST, we can find the\n",
    "(probability of) the most probable transliteration y for a given input string x!\n",
    "\"\"\"\n",
    "\n",
    "class Arctic(Semiring):\n",
    "    def __init__(self, score):\n",
    "        self.score = score\n",
    "\n",
    "    def star(self):\n",
    "        # TODO: implement Kleene star\n",
    "        return self.one\n",
    "\n",
    "    def __float__(self):\n",
    "        return float(self.score)\n",
    "\n",
    "    def __add__(self, other):\n",
    "        return Arctic(max(self.score, other.score))\n",
    "\n",
    "    def __mul__(self, other):\n",
    "        # Remember idempotent property a+a = a and 0-closed 1+a=1...\n",
    "        if other is self.one: # a+0 = a\n",
    "            return self\n",
    "        if self is self.one:\n",
    "            return other\n",
    "        if self is self.zero or other is self.zero:\n",
    "            return self.zero # somthing not infty + -infty -> -infty\n",
    "        return Arctic(self.score+other.score)\n",
    "\n",
    "    def __repr__(self):\n",
    "        return f\"{round(self.score, 15)}\"\n",
    "\n",
    "    def __eq__(self, other):\n",
    "        return np.allclose(float(self.score), float(other.score), atol=1e-3)\n",
    "\n",
    "    def __hash__(self):\n",
    "        return hash(self.score)\n",
    "\n",
    "# TODO: implement the log semiring one and zero\n",
    "Arctic.zero = Arctic(-np.inf)\n",
    "Arctic.one = Arctic(0.0)\n",
    "\n",
    "\n",
    "Arctic.idempotent = True\n",
    "Arctic.cancellative = True\n",
    "    "
   ]
  },
  {
   "cell_type": "code",
   "execution_count": 175,
   "metadata": {
    "id": "YCImTl323bbd"
   },
   "outputs": [],
   "source": [
    "def decode(in_str, edit_distance_fst):\n",
    "    \"\"\" Gets as input a source string and an\n",
    "    edit-distance transducer and returns the weight of the most\n",
    "    probable target string\n",
    "    \"\"\"\n",
    "    # TODO: implement\n",
    "    in_fst = string_fst(in_str)\n",
    "    comp = compose(in_fst, edit_distance_fst)\n",
    "    \n",
    "    # Raise to different semiring\n",
    "    comp = to_semiring(comp, Arctic)\n",
    "    \n",
    "    return normalizer(comp)"
   ]
  },
  {
   "cell_type": "code",
   "execution_count": null,
   "metadata": {},
   "outputs": [],
   "source": []
  }
 ],
 "metadata": {
  "colab": {
   "provenance": []
  },
  "kernelspec": {
   "display_name": "Python 3 (ipykernel)",
   "language": "python",
   "name": "python3"
  },
  "language_info": {
   "codemirror_mode": {
    "name": "ipython",
    "version": 3
   },
   "file_extension": ".py",
   "mimetype": "text/x-python",
   "name": "python",
   "nbconvert_exporter": "python",
   "pygments_lexer": "ipython3",
   "version": "3.11.9"
  }
 },
 "nbformat": 4,
 "nbformat_minor": 1
}
